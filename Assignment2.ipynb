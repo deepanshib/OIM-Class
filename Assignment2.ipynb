{
 "cells": [
  {
   "cell_type": "markdown",
   "id": "c441e4ca",
   "metadata": {},
   "source": [
    "# Assignment 2\n",
    "* In this assignment you will be working with three data files from iMDB:\n",
    "    * cast.csv\n",
    "    * release_dates.csv\n",
    "    * titles.csv\n",
    "* Using the appropriate file(s), answer the following questions\n",
    "* Some questions can be completed with one-liners while others are a bit more involved\n",
    "* Where appropriate, answers should also provide brief commentary\n",
    "* Exclude data that doen't make senss, i.e. data from the future\n",
    "* Once complete upload this notebook to your classwork Github repo and post the link on Canvas "
   ]
  },
  {
   "cell_type": "code",
   "execution_count": 4,
   "id": "f4594546",
   "metadata": {},
   "outputs": [],
   "source": [
    "import pandas as pd\n",
    "cast=pd.read_csv(\"data/Archive/cast.csv\")\n",
    "release_dates=pd.read_csv(\"data/Archive/release_dates.csv\")\n",
    "titles=pd.read_csv(\"data/Archive/titles.csv\")"
   ]
  },
  {
   "cell_type": "markdown",
   "id": "7f3efd04",
   "metadata": {},
   "source": [
    "### 1. Conduct a high level assessment of the three data files, i.e. how many records are there, what kind of data, etc. Summarize your findings with annotation. "
   ]
  },
  {
   "cell_type": "code",
   "execution_count": 5,
   "id": "03bc8314",
   "metadata": {},
   "outputs": [
    {
     "name": "stdout",
     "output_type": "stream",
     "text": [
      "<class 'pandas.core.frame.DataFrame'>\n",
      "RangeIndex: 3442902 entries, 0 to 3442901\n",
      "Data columns (total 6 columns):\n",
      " #   Column     Dtype  \n",
      "---  ------     -----  \n",
      " 0   title      object \n",
      " 1   year       int64  \n",
      " 2   name       object \n",
      " 3   type       object \n",
      " 4   character  object \n",
      " 5   n          float64\n",
      "dtypes: float64(1), int64(1), object(4)\n",
      "memory usage: 157.6+ MB\n",
      "None\n",
      "<class 'pandas.core.frame.DataFrame'>\n",
      "RangeIndex: 443486 entries, 0 to 443485\n",
      "Data columns (total 4 columns):\n",
      " #   Column   Non-Null Count   Dtype \n",
      "---  ------   --------------   ----- \n",
      " 0   title    443485 non-null  object\n",
      " 1   year     443486 non-null  int64 \n",
      " 2   country  443486 non-null  object\n",
      " 3   date     443486 non-null  object\n",
      "dtypes: int64(1), object(3)\n",
      "memory usage: 13.5+ MB\n",
      "None\n",
      "<class 'pandas.core.frame.DataFrame'>\n",
      "RangeIndex: 226013 entries, 0 to 226012\n",
      "Data columns (total 2 columns):\n",
      " #   Column  Non-Null Count   Dtype \n",
      "---  ------  --------------   ----- \n",
      " 0   title   226012 non-null  object\n",
      " 1   year    226013 non-null  int64 \n",
      "dtypes: int64(1), object(1)\n",
      "memory usage: 3.4+ MB\n",
      "None\n"
     ]
    }
   ],
   "source": [
    "print(cast.info())\n",
    "print(release_dates.info())\n",
    "print(titles.info())"
   ]
  },
  {
   "cell_type": "code",
   "execution_count": 8,
   "id": "ad386cd8",
   "metadata": {},
   "outputs": [
    {
     "name": "stdout",
     "output_type": "stream",
     "text": [
      "title        3442896\n",
      "year         3442902\n",
      "name         3442902\n",
      "type         3442902\n",
      "character    3442894\n",
      "n            2115119\n",
      "dtype: int64\n"
     ]
    }
   ],
   "source": [
    "print(cast.count())"
   ]
  },
  {
   "cell_type": "code",
   "execution_count": 9,
   "id": "64a3f90c",
   "metadata": {},
   "outputs": [
    {
     "data": {
      "text/html": [
       "<div>\n",
       "<style scoped>\n",
       "    .dataframe tbody tr th:only-of-type {\n",
       "        vertical-align: middle;\n",
       "    }\n",
       "\n",
       "    .dataframe tbody tr th {\n",
       "        vertical-align: top;\n",
       "    }\n",
       "\n",
       "    .dataframe thead th {\n",
       "        text-align: right;\n",
       "    }\n",
       "</style>\n",
       "<table border=\"1\" class=\"dataframe\">\n",
       "  <thead>\n",
       "    <tr style=\"text-align: right;\">\n",
       "      <th></th>\n",
       "      <th>title</th>\n",
       "      <th>year</th>\n",
       "      <th>country</th>\n",
       "      <th>date</th>\n",
       "    </tr>\n",
       "  </thead>\n",
       "  <tbody>\n",
       "    <tr>\n",
       "      <th>0</th>\n",
       "      <td>#73, Shaanthi Nivaasa</td>\n",
       "      <td>2007</td>\n",
       "      <td>India</td>\n",
       "      <td>2007-06-15</td>\n",
       "    </tr>\n",
       "    <tr>\n",
       "      <th>1</th>\n",
       "      <td>#BKKY</td>\n",
       "      <td>2016</td>\n",
       "      <td>Cambodia</td>\n",
       "      <td>2017-10-12</td>\n",
       "    </tr>\n",
       "    <tr>\n",
       "      <th>2</th>\n",
       "      <td>#Beings</td>\n",
       "      <td>2015</td>\n",
       "      <td>Romania</td>\n",
       "      <td>2015-01-29</td>\n",
       "    </tr>\n",
       "    <tr>\n",
       "      <th>3</th>\n",
       "      <td>#Captured</td>\n",
       "      <td>2017</td>\n",
       "      <td>USA</td>\n",
       "      <td>2017-09-05</td>\n",
       "    </tr>\n",
       "    <tr>\n",
       "      <th>4</th>\n",
       "      <td>#Ewankosau saranghaeyo</td>\n",
       "      <td>2015</td>\n",
       "      <td>Philippines</td>\n",
       "      <td>2015-01-21</td>\n",
       "    </tr>\n",
       "  </tbody>\n",
       "</table>\n",
       "</div>"
      ],
      "text/plain": [
       "                    title  year      country        date\n",
       "0   #73, Shaanthi Nivaasa  2007        India  2007-06-15\n",
       "1                   #BKKY  2016     Cambodia  2017-10-12\n",
       "2                 #Beings  2015      Romania  2015-01-29\n",
       "3               #Captured  2017          USA  2017-09-05\n",
       "4  #Ewankosau saranghaeyo  2015  Philippines  2015-01-21"
      ]
     },
     "execution_count": 9,
     "metadata": {},
     "output_type": "execute_result"
    }
   ],
   "source": [
    "release_dates.head()"
   ]
  },
  {
   "cell_type": "code",
   "execution_count": 10,
   "id": "824c48bc",
   "metadata": {},
   "outputs": [],
   "source": [
    "#removing future data\n",
    "cast = cast[cast['year'] <= 2024] \n",
    "release_dates = release_dates[release_dates['year'] <= 2024]\n",
    "release_dates = release_dates[release_dates['date'] <= '2024-03-06']\n",
    "titles = titles[titles['year'] <= 2024]"
   ]
  },
  {
   "cell_type": "code",
   "execution_count": 11,
   "id": "7f478a6d",
   "metadata": {},
   "outputs": [
    {
     "name": "stdout",
     "output_type": "stream",
     "text": [
      "<class 'pandas.core.frame.DataFrame'>\n",
      "Index: 3442890 entries, 0 to 3442901\n",
      "Data columns (total 6 columns):\n",
      " #   Column     Dtype  \n",
      "---  ------     -----  \n",
      " 0   title      object \n",
      " 1   year       int64  \n",
      " 2   name       object \n",
      " 3   type       object \n",
      " 4   character  object \n",
      " 5   n          float64\n",
      "dtypes: float64(1), int64(1), object(4)\n",
      "memory usage: 183.9+ MB\n",
      "None\n",
      "title        3442884\n",
      "year         3442890\n",
      "name         3442890\n",
      "type         3442890\n",
      "character    3442882\n",
      "n            2115119\n",
      "dtype: int64\n",
      "<class 'pandas.core.frame.DataFrame'>\n",
      "Index: 443482 entries, 0 to 443485\n",
      "Data columns (total 4 columns):\n",
      " #   Column   Non-Null Count   Dtype \n",
      "---  ------   --------------   ----- \n",
      " 0   title    443481 non-null  object\n",
      " 1   year     443482 non-null  int64 \n",
      " 2   country  443482 non-null  object\n",
      " 3   date     443482 non-null  object\n",
      "dtypes: int64(1), object(3)\n",
      "memory usage: 16.9+ MB\n",
      "None\n",
      "<class 'pandas.core.frame.DataFrame'>\n",
      "Index: 226010 entries, 0 to 226012\n",
      "Data columns (total 2 columns):\n",
      " #   Column  Non-Null Count   Dtype \n",
      "---  ------  --------------   ----- \n",
      " 0   title   226009 non-null  object\n",
      " 1   year    226010 non-null  int64 \n",
      "dtypes: int64(1), object(1)\n",
      "memory usage: 5.2+ MB\n",
      "None\n"
     ]
    }
   ],
   "source": [
    "print(cast.info())\n",
    "print(cast.count())\n",
    "print(release_dates.info())\n",
    "print(titles.info())"
   ]
  },
  {
   "cell_type": "code",
   "execution_count": 25,
   "id": "098c7811",
   "metadata": {},
   "outputs": [
    {
     "data": {
      "text/html": [
       "<div>\n",
       "<style scoped>\n",
       "    .dataframe tbody tr th:only-of-type {\n",
       "        vertical-align: middle;\n",
       "    }\n",
       "\n",
       "    .dataframe tbody tr th {\n",
       "        vertical-align: top;\n",
       "    }\n",
       "\n",
       "    .dataframe thead th {\n",
       "        text-align: right;\n",
       "    }\n",
       "</style>\n",
       "<table border=\"1\" class=\"dataframe\">\n",
       "  <thead>\n",
       "    <tr style=\"text-align: right;\">\n",
       "      <th></th>\n",
       "      <th>title</th>\n",
       "      <th>year</th>\n",
       "      <th>name</th>\n",
       "      <th>type</th>\n",
       "      <th>character</th>\n",
       "      <th>n</th>\n",
       "    </tr>\n",
       "  </thead>\n",
       "  <tbody>\n",
       "    <tr>\n",
       "      <th>0</th>\n",
       "      <td>Closet Monster</td>\n",
       "      <td>2015</td>\n",
       "      <td>Buffy #1</td>\n",
       "      <td>actor</td>\n",
       "      <td>Buffy 4</td>\n",
       "      <td>31.0</td>\n",
       "    </tr>\n",
       "    <tr>\n",
       "      <th>1</th>\n",
       "      <td>Suuri illusioni</td>\n",
       "      <td>1985</td>\n",
       "      <td>Homo $</td>\n",
       "      <td>actor</td>\n",
       "      <td>Guests</td>\n",
       "      <td>22.0</td>\n",
       "    </tr>\n",
       "    <tr>\n",
       "      <th>2</th>\n",
       "      <td>Battle of the Sexes</td>\n",
       "      <td>2017</td>\n",
       "      <td>$hutter</td>\n",
       "      <td>actor</td>\n",
       "      <td>Bobby Riggs Fan</td>\n",
       "      <td>10.0</td>\n",
       "    </tr>\n",
       "    <tr>\n",
       "      <th>3</th>\n",
       "      <td>Secret in Their Eyes</td>\n",
       "      <td>2015</td>\n",
       "      <td>$hutter</td>\n",
       "      <td>actor</td>\n",
       "      <td>2002 Dodger Fan</td>\n",
       "      <td>NaN</td>\n",
       "    </tr>\n",
       "    <tr>\n",
       "      <th>4</th>\n",
       "      <td>Steve Jobs</td>\n",
       "      <td>2015</td>\n",
       "      <td>$hutter</td>\n",
       "      <td>actor</td>\n",
       "      <td>1988 Opera House Patron</td>\n",
       "      <td>NaN</td>\n",
       "    </tr>\n",
       "  </tbody>\n",
       "</table>\n",
       "</div>"
      ],
      "text/plain": [
       "                  title  year      name   type                character     n\n",
       "0        Closet Monster  2015  Buffy #1  actor                  Buffy 4  31.0\n",
       "1       Suuri illusioni  1985    Homo $  actor                   Guests  22.0\n",
       "2   Battle of the Sexes  2017   $hutter  actor          Bobby Riggs Fan  10.0\n",
       "3  Secret in Their Eyes  2015   $hutter  actor          2002 Dodger Fan   NaN\n",
       "4            Steve Jobs  2015   $hutter  actor  1988 Opera House Patron   NaN"
      ]
     },
     "execution_count": 25,
     "metadata": {},
     "output_type": "execute_result"
    }
   ],
   "source": [
    "#print(cast[pd.notnull(cast['year']) & pd.isnull(cast['title'])])\n",
    "#print(cast[cast['title'] == 'Batman'])\n",
    "cast.head()"
   ]
  },
  {
   "cell_type": "markdown",
   "id": "7400c1a2",
   "metadata": {},
   "source": [
    "We have 3 datasets having data around movies. The dataset 'cast' has a list of 3442902 movies, while 'release_dates' having entries of 443486 movies with specific release dates  and dataset 'title' with 226013 entries.\n",
    "\n",
    "Considering that today's date is 6 March 2024 and we do not wish to see the future data which is based more on assumption and interpretation, the updated counts are - \n",
    "\n",
    "- 'cast' dataset - 3442890 entries \n",
    "- 'release_dates'- 443482 entries\n",
    "- 'title' - 226010 entries\n",
    "\n",
    "> Dataset 'cast' - The cast dataset is a comprehensive listing of actors and characters for historic movies, along with the year of release and ranking information. \n",
    "This dataset has 6 columns: 'title' (string) - name of the movie , 'year' (integer) - year of release, 'name' (string) - name of the main charater, 'type' (string) - actor/actress, 'character' (string) - the name of the character played, and 'n' (float) - ranking of actor (assumption).\n",
    "\n",
    "> Dataset 'release_dates' -\n",
    "The release_dates dataset details when movies were released in various countries. This dataset could be used to analyze the distribution and release patterns of movies worldwide.\n",
    "This dataset has 4 columns: 'title' (string), 'year' (integer), 'country' (string) - country of release, and 'date' (string)- release date.\n",
    "\n",
    "> Dataset 'titles' -\n",
    "The titles dataset seems to be a basic list of movie titles along with their year of release. \n",
    "This dataset has 2 columns: 'title' (string) - name of the movie and 'year' (integer) - year of release.\n"
   ]
  },
  {
   "cell_type": "markdown",
   "id": "8949aee1",
   "metadata": {},
   "source": [
    "### 2. How many movies have the title North by Northwest"
   ]
  },
  {
   "cell_type": "code",
   "execution_count": 37,
   "id": "712cba84",
   "metadata": {},
   "outputs": [
    {
     "name": "stdout",
     "output_type": "stream",
     "text": [
      "movie count 1\n",
      "number of cast  116\n"
     ]
    }
   ],
   "source": [
    "nbn_count = len(titles[titles['title'] == 'North by Northwest'])\n",
    "print('movie count',nbn_count)\n",
    "\n",
    "nbn_cast = len(cast[cast['title'] == 'North by Northwest'])\n",
    "print('number of cast ',nbn_cast)\n",
    "#print(cast[cast['title'] == 'North by Northwest'])"
   ]
  },
  {
   "cell_type": "markdown",
   "id": "651191f3",
   "metadata": {},
   "source": [
    "### 3. How many version of Hamlet are there, when was the first made? the last?"
   ]
  },
  {
   "cell_type": "code",
   "execution_count": 46,
   "id": "1e421672",
   "metadata": {},
   "outputs": [
    {
     "name": "stdout",
     "output_type": "stream",
     "text": [
      "Total versions of Hamlet are 20\n",
      "         title  year\n",
      "25028   Hamlet  2009\n",
      "64116   Hamlet  1976\n",
      "73929   Hamlet  1969\n",
      "79939   Hamlet  1910\n",
      "109822  Hamlet  2015\n",
      "113670  Hamlet  1964\n",
      "118331  Hamlet  2014\n",
      "129673  Hamlet  1911\n",
      "137240  Hamlet  2011\n",
      "141682  Hamlet  2000\n",
      "144085  Hamlet  1987\n",
      "164637  Hamlet  1913\n",
      "174856  Hamlet  1990\n",
      "186870  Hamlet  2016\n",
      "204180  Hamlet  1973\n",
      "208380  Hamlet  2017\n",
      "213476  Hamlet  1996\n",
      "220568  Hamlet  1954\n",
      "221201  Hamlet  1948\n",
      "221419  Hamlet  1921\n",
      "First Hamlet was made in 1910\n",
      "Last Hamlet was made in 2017\n"
     ]
    }
   ],
   "source": [
    "hamlet = titles[titles['title'] == 'Hamlet']\n",
    "first_hamlet = hamlet['year'].min()\n",
    "last_hamlet = hamlet['year'].max()\n",
    "print(\"Total versions of Hamlet are\", len(hamlet))\n",
    "print(hamlet)\n",
    "print(\"First Hamlet was made in\",first_hamlet)\n",
    "print(\"Last Hamlet was made in\",last_hamlet)"
   ]
  },
  {
   "cell_type": "markdown",
   "id": "5650b610",
   "metadata": {},
   "source": [
    "### 4. List all the movies called Treasure Island from oldest to newest"
   ]
  },
  {
   "cell_type": "code",
   "execution_count": 50,
   "id": "636611d9",
   "metadata": {},
   "outputs": [
    {
     "name": "stdout",
     "output_type": "stream",
     "text": [
      "                  title  year\n",
      "180911  Treasure Island  1918\n",
      "108853  Treasure Island  1920\n",
      "87953   Treasure Island  1934\n",
      "126321  Treasure Island  1950\n",
      "190233  Treasure Island  1972\n",
      "122150  Treasure Island  1973\n",
      "52099   Treasure Island  1985\n",
      "36752   Treasure Island  1999\n"
     ]
    }
   ],
   "source": [
    "ti_movies = titles[titles['title'] == 'Treasure Island'].sort_values('year')\n",
    "print(ti_movies)"
   ]
  },
  {
   "cell_type": "markdown",
   "id": "a94f4524",
   "metadata": {},
   "source": [
    "### 5. How many movies were made in 1950? 1980? 2000? What conclusions can you draw from these data points?"
   ]
  },
  {
   "cell_type": "code",
   "execution_count": 51,
   "id": "8d44bdb2",
   "metadata": {},
   "outputs": [
    {
     "name": "stdout",
     "output_type": "stream",
     "text": [
      "movies made in year 1950 are  1109\n",
      "movies made in year 1980 are  1750\n",
      "movies made in year 2000 are  2568\n"
     ]
    }
   ],
   "source": [
    "movies_1950 = len(titles[titles['year'] == 1950])\n",
    "print(\"movies made in year 1950 are \",movies_1950)\n",
    "\n",
    "movies_1980 = len(titles[titles['year'] == 1980])\n",
    "print(\"movies made in year 1980 are \",movies_1980)\n",
    "\n",
    "movies_2000 = len(titles[titles['year'] == 2000])\n",
    "print(\"movies made in year 2000 are \",movies_2000)\n",
    "\n"
   ]
  },
  {
   "cell_type": "markdown",
   "id": "ab154c14",
   "metadata": {},
   "source": [
    "Conclusion - The rising number of movies over the 3 periodic years indicate the growing film industry with more movies being produced every year. This somewhere indicates the attraction and interest of general public and the money film industry is bringing and contributing to the economy. Other impactful areas could be growth in technology, distribtuion channel etc."
   ]
  },
  {
   "cell_type": "markdown",
   "id": "0c34799c",
   "metadata": {},
   "source": [
    "### 6. How big was the cast of Metropolis\n"
   ]
  },
  {
   "cell_type": "code",
   "execution_count": 57,
   "id": "4461cc46",
   "metadata": {},
   "outputs": [
    {
     "name": "stdout",
     "output_type": "stream",
     "text": [
      "1\n",
      "Count for the cast of the metropolis movie is  33\n"
     ]
    }
   ],
   "source": [
    "metropolis = len(titles[titles['title'] == 'Metropolis']) #number of movies with the title as metropolis\n",
    "print(metropolis)\n",
    "metropolis_cast = len(cast[cast['title'] == 'Metropolis']) #calculating count of cast in the given movie from cast dataset\n",
    "print(\"Count for the cast of the metropolis movie is \",metropolis_cast)"
   ]
  },
  {
   "cell_type": "code",
   "execution_count": null,
   "id": "d43aa7f6",
   "metadata": {},
   "outputs": [],
   "source": []
  },
  {
   "cell_type": "markdown",
   "id": "7dead3d7",
   "metadata": {},
   "source": [
    "### 7. How many roles for actors were there 1950's? 1990's"
   ]
  },
  {
   "cell_type": "code",
   "execution_count": 59,
   "id": "9f7336d3",
   "metadata": {},
   "outputs": [
    {
     "name": "stdout",
     "output_type": "stream",
     "text": [
      "153559 245713\n"
     ]
    }
   ],
   "source": [
    "#roles_1950 = len(cast[(cast['year'] == 1950) & (cast['type'] == 'actor')])\n",
    "#roles_1990 = len(cast[(cast['year'] == 1990) & (cast['type'] == 'actor')])\n",
    "#print(roles_1950, roles_1990)\n",
    "\n",
    "roles_1950s = len(cast[(cast['year'] // 10 == 195) & (cast['type'] == 'actor')]) # getting the remainder of year when divided by 10 so that all years of decade could be taken for 1950\n",
    "roles_1990s = len(cast[(cast['year'] // 10 == 199) & (cast['type'] == 'actor')])# getting the remainder of year when divided by 10 so that all years of decade could be taken for 1990\n",
    "print(roles_1950s, roles_1990s)"
   ]
  },
  {
   "cell_type": "markdown",
   "id": "3c5ad9f2",
   "metadata": {},
   "source": [
    "### 8. How many roles for actors & actresses over time? Output should be a line graph"
   ]
  },
  {
   "cell_type": "code",
   "execution_count": 66,
   "id": "a4401c78",
   "metadata": {},
   "outputs": [
    {
     "data": {
      "text/plain": [
       "<Axes: xlabel='year'>"
      ]
     },
     "execution_count": 66,
     "metadata": {},
     "output_type": "execute_result"
    },
    {
     "data": {
      "image/png": "[encoded data removed]",
      "text/plain": [
       "<Figure size 432x288 with 1 Axes>"
      ]
     },
     "metadata": {
      "needs_background": "light"
     },
     "output_type": "display_data"
    }
   ],
   "source": [
    "roles = cast.groupby(['year', 'type']).size().unstack() #made a single graph categorising the column type to show 2 lines, one for actor and other once for actress\n",
    "\n",
    "roles.plot(kind='line') #for displaying line graph"
   ]
  },
  {
   "cell_type": "markdown",
   "id": "5e3a04c7",
   "metadata": {},
   "source": [
    "### 9. How many \"leading roles\" were there in the 2000's?"
   ]
  },
  {
   "cell_type": "code",
   "execution_count": 80,
   "id": "01cc5e7f",
   "metadata": {
    "scrolled": true
   },
   "outputs": [
    {
     "name": "stdout",
     "output_type": "stream",
     "text": [
      "average lead roles 22.11261939029177\n",
      "max lead roles 436\n",
      "min lead roles 1\n"
     ]
    }
   ],
   "source": [
    "#cast.head()\n",
    "#Assuming that the cast table is consisting of lead roles of actors and actress only.\n",
    "\n",
    "roles_2000s = cast[(cast['year'] // 10 == 200)]# Getting the remainder of year when divided by 10 so that all years of decade could be taken for 2000\n",
    "\n",
    "roles_2000s_characters = roles_2000s.groupby('title').size() ## Grouping by title and counting the number of characters per movie\n",
    "#print(roles_2000s_characters)\n",
    "\n",
    "\n",
    "average_leadingroles = roles_2000s_characters.mean() # Calculating the average number of leading roles per movie\n",
    "\n",
    "max_leadingroles = roles_2000s_characters.max() # Calculate the maximum number of leading roles (characters) per movie\n",
    "\n",
    "min_leadingroles = roles_2000s_characters.min() # Calculate the minimum number of leading roles (characters) per movie\n",
    "print(\"average lead roles\", average_leadingroles)\n",
    "print(\"max lead roles\", max_leadingroles)\n",
    "print(\"min lead roles\", min_leadingroles)\n"
   ]
  },
  {
   "cell_type": "markdown",
   "id": "a60c91b4",
   "metadata": {},
   "source": [
    "### 10. How many roles received no ranking in the 2000's? 1950's. What conclusions can you draw from these two data points?"
   ]
  },
  {
   "cell_type": "code",
   "execution_count": 83,
   "id": "4b729250",
   "metadata": {},
   "outputs": [
    {
     "name": "stdout",
     "output_type": "stream",
     "text": [
      "no ranking in 2000s 232037\n",
      "no ranking in 1950s 95406\n"
     ]
    }
   ],
   "source": [
    "# Checking no ranking in n column with isnull function - for decades 2000s and 1950s\n",
    "\n",
    "no_rank_2000s = len(cast[(cast['year'] // 10 == 200) & cast['n'].isnull()])\n",
    "no_rank_1950s = len(cast[(cast['year'] // 10 == 195) & cast['n'].isnull()])\n",
    "print(\"no ranking in 2000s\", no_rank_2000s)\n",
    "print(\"no ranking in 1950s\", no_rank_1950s)\n"
   ]
  },
  {
   "cell_type": "markdown",
   "id": "6f885928",
   "metadata": {},
   "source": [
    "There is a drastic reduction in 'no ranking' roles in the 2 mentioned years. This somewhere indicates that the technology advanced and the mechanism to give ranking became streamlined or easy."
   ]
  },
  {
   "cell_type": "markdown",
   "id": "33d9c249",
   "metadata": {},
   "source": [
    "### 11. Plot the number of films made in each decade"
   ]
  },
  {
   "cell_type": "code",
   "execution_count": 94,
   "id": "3f6c5b5a",
   "metadata": {},
   "outputs": [
    {
     "data": {
      "image/png": "[encoded data removed]",
      "text/plain": [
       "<Figure size 432x288 with 1 Axes>"
      ]
     },
     "metadata": {
      "needs_background": "light"
     },
     "output_type": "display_data"
    }
   ],
   "source": [
    "import pandas as pd\n",
    "import matplotlib.pyplot as plt\n",
    "\n",
    "titles['decade'] = (titles['year'] // 10) * 10 #adding decade column mentioning the decade of the movie\n",
    "\n",
    "films_decade = titles.groupby('decade').size() # counting the films per decade\n",
    "\n",
    "films_decade.plot(kind='bar')\n",
    "plt.title('Films Per Decade')\n",
    "plt.xlabel('Decade')\n",
    "plt.ylabel('No. of Films')\n",
    "plt.show()"
   ]
  },
  {
   "cell_type": "markdown",
   "id": "7b8b93e3",
   "metadata": {},
   "source": [
    "### 12. Plot the number of films with a Rustler character over time"
   ]
  },
  {
   "cell_type": "code",
   "execution_count": 95,
   "id": "ed1bce02",
   "metadata": {},
   "outputs": [
    {
     "data": {
      "image/png": "[encoded data removed]",
      "text/plain": [
       "<Figure size 432x288 with 1 Axes>"
      ]
     },
     "metadata": {
      "needs_background": "light"
     },
     "output_type": "display_data"
    }
   ],
   "source": [
    "rustler = cast[cast['character'] == 'Rustler'].groupby('year').size() #assuming over time means over the year\n",
    "\n",
    "rustler.plot(kind='line') #since line graph is best to denote over time values\n",
    "plt.title('Films with \"Rustler\" Character')\n",
    "plt.xlabel('Year')\n",
    "plt.ylabel('No. of Films')\n",
    "plt.show()"
   ]
  },
  {
   "cell_type": "markdown",
   "id": "1df5a8a7",
   "metadata": {},
   "source": [
    "### 13. What are the top ten character names of all time?"
   ]
  },
  {
   "cell_type": "code",
   "execution_count": 104,
   "id": "fc30c391",
   "metadata": {},
   "outputs": [
    {
     "name": "stdout",
     "output_type": "stream",
     "text": [
      "character\n",
      "Himself        19637\n",
      "Dancer         12019\n",
      "Extra          10848\n",
      "Reporter        7818\n",
      "Doctor          6963\n",
      "Party Guest     6786\n",
      "Student         6631\n",
      "Policeman       6424\n",
      "Bartender       6290\n",
      "Herself         6269\n",
      "Name: count, dtype: int64\n"
     ]
    }
   ],
   "source": [
    "top_ten= cast['character'].value_counts().head(10)\n",
    "print(top_ten)"
   ]
  },
  {
   "cell_type": "markdown",
   "id": "febd5c97",
   "metadata": {},
   "source": [
    "### 14. Which actor appeared in the most films in the 1990's decade?"
   ]
  },
  {
   "cell_type": "code",
   "execution_count": 106,
   "id": "ed10c4df",
   "metadata": {},
   "outputs": [
    {
     "data": {
      "text/plain": [
       "('Shakti Kapoor', 143)"
      ]
     },
     "execution_count": 106,
     "metadata": {},
     "output_type": "execute_result"
    }
   ],
   "source": [
    "cast_1990s_actor = cast[(cast['year'] // 10 == 199) & (cast['type'] == 'actor')]\n",
    "\n",
    "actors_1990s = cast_1990s_actor.groupby('name').size() # group by actor name and count films for each one\n",
    "\n",
    "most_films_actor = actors_1990s.idxmax()\n",
    "most_films_count = actors_1990s.max()\n",
    "\n",
    "most_films_actor, most_films_count"
   ]
  },
  {
   "cell_type": "markdown",
   "id": "b2d57a18",
   "metadata": {},
   "source": [
    "### 15. What are the top 10 roles that start with Science?"
   ]
  },
  {
   "cell_type": "code",
   "execution_count": 110,
   "id": "64b41362",
   "metadata": {},
   "outputs": [
    {
     "data": {
      "text/plain": [
       "character\n",
       "Science Teacher         57\n",
       "Science Fair Student     9\n",
       "Science Student          6\n",
       "Science Fair Judge       6\n",
       "Science Kid              5\n",
       "Science Fair Kid         5\n",
       "Science Reporter         5\n",
       "Science                  4\n",
       "Science Officer          3\n",
       "Science teacher          3\n",
       "Name: count, dtype: int64"
      ]
     },
     "execution_count": 110,
     "metadata": {},
     "output_type": "execute_result"
    }
   ],
   "source": [
    "cast_nona = cast.dropna(subset=['character'])\n",
    "\n",
    "science_roles = cast_nona[cast_nona['character'].str.startswith('Science')]\n",
    "\n",
    "top_science = science_roles['character'].value_counts().head(10) # count each role and sort desc\n",
    "\n",
    "top_science"
   ]
  },
  {
   "cell_type": "markdown",
   "id": "7e37caf3",
   "metadata": {},
   "source": [
    "### 16. What film has the largest cast"
   ]
  },
  {
   "cell_type": "code",
   "execution_count": 109,
   "id": "1de674fc",
   "metadata": {},
   "outputs": [
    {
     "data": {
      "text/plain": [
       "('Around the World in 80 Days', 1364)"
      ]
     },
     "execution_count": 109,
     "metadata": {},
     "output_type": "execute_result"
    }
   ],
   "source": [
    "cast_counts = cast.groupby('title').size()\n",
    "\n",
    "largest_cast_film = cast_counts.idxmax()\n",
    "largest_cast_size = cast_counts.max()\n",
    "\n",
    "largest_cast_film, largest_cast_size"
   ]
  },
  {
   "cell_type": "markdown",
   "id": "3a1a26ba",
   "metadata": {},
   "source": [
    "### 17. Generate descriptive statistics for cast size. Briefly comment on the results"
   ]
  },
  {
   "cell_type": "code",
   "execution_count": 111,
   "id": "b0592c92",
   "metadata": {},
   "outputs": [
    {
     "data": {
      "text/plain": [
       "count    182495.000000\n",
       "mean         18.865635\n",
       "std          21.241318\n",
       "min           1.000000\n",
       "25%           6.000000\n",
       "50%          13.000000\n",
       "75%          24.000000\n",
       "max        1299.000000\n",
       "dtype: float64"
      ]
     },
     "execution_count": 111,
     "metadata": {},
     "output_type": "execute_result"
    }
   ],
   "source": [
    "cast_sizes = cast.groupby(['title', 'year']).size()\n",
    "\n",
    "cast_size_stats = cast_sizes.describe()\n",
    "\n",
    "cast_size_stats"
   ]
  },
  {
   "cell_type": "markdown",
   "id": "703de4b4",
   "metadata": {},
   "source": [
    "- There are 182,495 unique films over the year in the dataset.\n",
    "\n",
    "- Mean is coming out to be 18.87 i.e 19,so films have about 19 roles. \n",
    "\n",
    "- The standard deviation of 21.24 is indicating a wide variance in cast sizes among the films. Some films have very small casts, while others have significantly larger ensembles.\n",
    "\n",
    "- The minimum cast size is 1, meaning there are films with only one cast member listed. These could be solo performances or cases where only the main role is documented.\n",
    "\n",
    "- The first quartile (or 25th percentile) is 6, indicating that 25% of the films have 6 or fewer cast members. This suggests that a significant number of films rely on small, concentrated casts.\n",
    "\n",
    "- The median cast size is 13, which means that half of the films have more than 13 cast members, and the other half have fewer. The median provides a more robust measure of the \"typical\" film cast size than the mean, especially in distributions that are skewed by outliers.\n",
    "\n",
    "- The third quartile (or 75th percentile) is 24, indicating that 75% of films have 24 or fewer cast members. Films beyond this point are considered to have large casts relative to the dataset.\n",
    "\n",
    "- The maximum cast size is 1,299, which is exceptionally large and likely represents outlier productions with exceptionally large ensembles or perhaps cases where even extras are listed in the cast."
   ]
  },
  {
   "cell_type": "markdown",
   "id": "57885f86",
   "metadata": {},
   "source": [
    "### 18. How many films has Natalie Portman been in in each year throughout her career?"
   ]
  },
  {
   "cell_type": "code",
   "execution_count": 112,
   "id": "e2457352",
   "metadata": {},
   "outputs": [
    {
     "data": {
      "text/plain": [
       "year\n",
       "1995    1\n",
       "1996    3\n",
       "1999    3\n",
       "2000    1\n",
       "2001    1\n",
       "2002    1\n",
       "2003    1\n",
       "2004    2\n",
       "2005    4\n",
       "2006    2\n",
       "2007    3\n",
       "2008    1\n",
       "2009    2\n",
       "2010    4\n",
       "2011    3\n",
       "2013    1\n",
       "2015    4\n",
       "2016    3\n",
       "2017    1\n",
       "dtype: int64"
      ]
     },
     "execution_count": 112,
     "metadata": {},
     "output_type": "execute_result"
    }
   ],
   "source": [
    "natalie = cast[cast['name'] == 'Natalie Portman']\n",
    "\n",
    "natalie_year = natalie.groupby('year').size() # Group by year and count films\n",
    "\n",
    "natalie_year"
   ]
  },
  {
   "cell_type": "markdown",
   "id": "1bff19c5",
   "metadata": {},
   "source": [
    "### 19. How many films did Natalie Portman appear in each year where where she was either the top star or co-star?"
   ]
  },
  {
   "cell_type": "code",
   "execution_count": 116,
   "id": "e2f4d043",
   "metadata": {},
   "outputs": [
    {
     "name": "stdout",
     "output_type": "stream",
     "text": [
      "13\n"
     ]
    }
   ],
   "source": [
    "natalie_top_roles = natalie[natalie['n'] <= 2] #assuming if ranking is <=2 then natalie will be considered top star or co star\n",
    "\n",
    "natalie_final = natalie_top_roles.groupby('year').size()\n",
    "\n",
    "print(len(natalie_final))"
   ]
  },
  {
   "cell_type": "markdown",
   "id": "8eda704b",
   "metadata": {},
   "source": [
    "### 20. Determine how many roles for actor or actress by decade. Plot the output "
   ]
  },
  {
   "cell_type": "code",
   "execution_count": 125,
   "id": "6abd6fe1",
   "metadata": {},
   "outputs": [
    {
     "data": {
      "image/png": "[encoded data removed]",
      "text/plain": [
       "<Figure size 432x288 with 1 Axes>"
      ]
     },
     "metadata": {
      "needs_background": "light"
     },
     "output_type": "display_data"
    }
   ],
   "source": [
    "cast['decade'] = (cast['year'] // 10) * 10\n",
    "\n",
    "roles = cast.groupby(['decade', 'type']).size().unstack() # Grouping by 'decade'and 'type'\n",
    "\n",
    "roles.plot(kind='bar')\n",
    "plt.title('Roles by Decade')\n",
    "plt.xlabel('Decade')\n",
    "plt.ylabel('Roles')\n",
    "plt.legend(title='Type')\n",
    "plt.show()"
   ]
  },
  {
   "cell_type": "markdown",
   "id": "fffe663b",
   "metadata": {},
   "source": [
    "### 21. Determine and comment on the day of the week that movies are released. What is notable about release days and months throughout the year? (Use pd.pivot_table)"
   ]
  },
  {
   "cell_type": "code",
   "execution_count": 152,
   "id": "5d3f6e03",
   "metadata": {},
   "outputs": [
    {
     "data": {
      "text/plain": [
       "<Axes: xlabel='weekday'>"
      ]
     },
     "execution_count": 152,
     "metadata": {},
     "output_type": "execute_result"
    },
    {
     "data": {
      "image/png": "[encoded data removed]",
      "text/plain": [
       "<Figure size 432x288 with 1 Axes>"
      ]
     },
     "metadata": {
      "needs_background": "light"
     },
     "output_type": "display_data"
    }
   ],
   "source": [
    "release_dates['date'] = pd.to_datetime(release_dates['date'])\n",
    "release_dates['weekday'] = release_dates['date'].dt.dayofweek #extracting weekday from date\n",
    "release_dates['month'] = release_dates['date'].dt.month #extracting month from date\n",
    "\n",
    "pivot_table = pd.pivot_table(release_dates, index='weekday', columns='month', aggfunc='size', fill_value=0) #summarized movie releases by weekday and month\n",
    "pivot_table.plot(kind='bar')"
   ]
  },
  {
   "cell_type": "code",
   "execution_count": 171,
   "id": "26cba50e",
   "metadata": {},
   "outputs": [
    {
     "name": "stdout",
     "output_type": "stream",
     "text": [
      "       Jan    Feb    Mar    Apr    May    Jun    Jul    Aug    Sep    Oct  \\\n",
      "Mon   3699   3138   3383   3168   3050   2337   2267   2844   3161   3551   \n",
      "Tue   1823   1190   1313   1446   1377   1179   1144   1121   1309   1542   \n",
      "Wed   4663   4118   4479   4650   4289   4282   4243   4270   4161   4605   \n",
      "Thu  10746  10356  11844  10625  10100   9469   8947   9931  10713  11490   \n",
      "Fri  13734  13833  15268  13559  13198  11997  11635  13430  14523  14893   \n",
      "Sat   2925   2395   2742   2868   2270   2409   2291   2277   2551   2700   \n",
      "Sun   1822   1277   1228   1358   1165   1031    894   1138   1332   1423   \n",
      "\n",
      "       Nov    Dec  \n",
      "Mon   3371   3240  \n",
      "Tue   1415   1903  \n",
      "Wed   4582   5097  \n",
      "Thu  10859  10665  \n",
      "Fri  14084  13018  \n",
      "Sat   2547   3357  \n",
      "Sun   1342   1813  \n"
     ]
    }
   ],
   "source": [
    "print (pivot_table)"
   ]
  },
  {
   "cell_type": "markdown",
   "id": "9f75ea0b",
   "metadata": {},
   "source": [
    "Insights - A large number of movies were released on Thursdays and Fridays. This trend is common in many countries, as Friday releases take advantage of the weekend, when audiences have more free time to go to the movies.\n",
    "\n",
    "It could also be noted that the movies released on other days were highest in the month of January and December."
   ]
  },
  {
   "cell_type": "markdown",
   "id": "88b4b805",
   "metadata": {},
   "source": [
    "### 22. Can you plot the pivot table? Is the output \"correct\"? Can you fix it?"
   ]
  },
  {
   "cell_type": "markdown",
   "id": "32b18802",
   "metadata": {},
   "source": [
    "I was able to plot the pivot table however it was tricky to understand and interpret it due to 3 variable values into picture.  The output mathematically seems correct, not sure but visually is very hard to understand.\n",
    "As heatmap is common to use when 3 variables, I would try that below"
   ]
  },
  {
   "cell_type": "code",
   "execution_count": 181,
   "id": "07152c8b",
   "metadata": {},
   "outputs": [
    {
     "data": {
      "image/png": "[encoded data removed]",
      "text/plain": [
       "<Figure size 864x576 with 2 Axes>"
      ]
     },
     "metadata": {
      "needs_background": "light"
     },
     "output_type": "display_data"
    }
   ],
   "source": [
    "import seaborn as sns\n",
    "\n",
    "pivot_table.index = ['Mon', 'Tue', 'Wed', 'Thu', 'Fri', 'Sat', 'Sun']\n",
    "pivot_table.columns = ['Jan', 'Feb', 'Mar', 'Apr', 'May', 'Jun', 'Jul', 'Aug', 'Sep', 'Oct', 'Nov', 'Dec']\n",
    "\n",
    "plt.figure(figsize=(12, 8))\n",
    "sns.heatmap(pivot_table, cmap=\"YlGnBu\", linewidths=.5, annot=True, fmt=\"d\") #added number of movies in the boxes and darkest color representing most number of movies\n",
    "plt.title('Movie Releases')\n",
    "plt.xlabel('Month')\n",
    "plt.ylabel('Weekday')\n",
    "plt.show()"
   ]
  },
  {
   "cell_type": "markdown",
   "id": "19fc8bc4",
   "metadata": {},
   "source": [
    "### 23. What films did actors in Star Wars go on to appear in? "
   ]
  },
  {
   "cell_type": "code",
   "execution_count": 193,
   "id": "35e5f456",
   "metadata": {},
   "outputs": [
    {
     "name": "stdout",
     "output_type": "stream",
     "text": [
      "                    name                 title\n",
      "3900     Ian Abercrombie  Addams Family Values\n",
      "3901     Ian Abercrombie   Blasphemy the Movie\n",
      "3902     Ian Abercrombie      Chromiumblue.com\n",
      "3903     Ian Abercrombie           Clean Slate\n",
      "3904     Ian Abercrombie            Firewalker\n",
      "...                  ...                   ...\n",
      "3410699    Keira Wingate               Lantana\n",
      "3419579    Kristy Wright  Christmas Down Under\n",
      "3419580    Kristy Wright        Enemies Closer\n",
      "3419582    Kristy Wright        Stranded Pearl\n",
      "3419583    Kristy Wright              The Crop\n",
      "\n",
      "[6527 rows x 2 columns]\n"
     ]
    }
   ],
   "source": [
    "cast['title'] = cast['title'].fillna('')\n",
    "starwars_actors = cast[cast['title'].str.contains('Star Wars')]['name'].unique()\n",
    "#print(len(starwars_actors))\n",
    "other_films = cast[cast['name'].isin(starwars_actors) & ~cast['title'].str.contains('Star Wars')] #checking other movies with same actors\n",
    "\n",
    "print(other_films[['name', 'title']].drop_duplicates())"
   ]
  },
  {
   "cell_type": "code",
   "execution_count": null,
   "id": "2de76e6c",
   "metadata": {},
   "outputs": [],
   "source": []
  }
 ],
 "metadata": {
  "kernelspec": {
   "display_name": "Python 3 (ipykernel)",
   "language": "python",
   "name": "python3"
  },
  "language_info": {
   "codemirror_mode": {
    "name": "ipython",
    "version": 3
   },
   "file_extension": ".py",
   "mimetype": "text/x-python",
   "name": "python",
   "nbconvert_exporter": "python",
   "pygments_lexer": "ipython3",
   "version": "3.8.9"
  }
 },
 "nbformat": 4,
 "nbformat_minor": 5
}
