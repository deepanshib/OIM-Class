{
 "cells": [
  {
   "cell_type": "code",
   "execution_count": 2,
   "id": "19922a0f",
   "metadata": {},
   "outputs": [],
   "source": [
    "import pandas as pd\n",
    "import numpy as np\n",
    "import matplotlib.pyplot as plt\n",
    "import seaborn as sns\n",
    "#from sklearn.linear_model import LinearRegression\n",
    "#import statsmodels.api as sm"
   ]
  },
  {
   "cell_type": "code",
   "execution_count": 3,
   "id": "c61cf76b",
   "metadata": {},
   "outputs": [],
   "source": [
    "df = pd.read_csv('data/homes.csv')\n"
   ]
  },
  {
   "cell_type": "code",
   "execution_count": 169,
   "id": "78323468",
   "metadata": {},
   "outputs": [
    {
     "data": {
      "text/html": [
       "<div>\n",
       "<style scoped>\n",
       "    .dataframe tbody tr th:only-of-type {\n",
       "        vertical-align: middle;\n",
       "    }\n",
       "\n",
       "    .dataframe tbody tr th {\n",
       "        vertical-align: top;\n",
       "    }\n",
       "\n",
       "    .dataframe thead th {\n",
       "        text-align: right;\n",
       "    }\n",
       "</style>\n",
       "<table border=\"1\" class=\"dataframe\">\n",
       "  <thead>\n",
       "    <tr style=\"text-align: right;\">\n",
       "      <th></th>\n",
       "      <th>Sell</th>\n",
       "      <th>\"List\"</th>\n",
       "      <th>\"Living\"</th>\n",
       "      <th>\"Rooms\"</th>\n",
       "      <th>\"Beds\"</th>\n",
       "      <th>\"Baths\"</th>\n",
       "      <th>\"Age\"</th>\n",
       "      <th>\"Acres\"</th>\n",
       "      <th>\"Taxes\"</th>\n",
       "    </tr>\n",
       "  </thead>\n",
       "  <tbody>\n",
       "    <tr>\n",
       "      <th>0</th>\n",
       "      <td>142</td>\n",
       "      <td>160</td>\n",
       "      <td>28</td>\n",
       "      <td>10</td>\n",
       "      <td>5</td>\n",
       "      <td>3</td>\n",
       "      <td>60</td>\n",
       "      <td>0.28</td>\n",
       "      <td>3167</td>\n",
       "    </tr>\n",
       "    <tr>\n",
       "      <th>1</th>\n",
       "      <td>175</td>\n",
       "      <td>180</td>\n",
       "      <td>18</td>\n",
       "      <td>8</td>\n",
       "      <td>4</td>\n",
       "      <td>1</td>\n",
       "      <td>12</td>\n",
       "      <td>0.43</td>\n",
       "      <td>4033</td>\n",
       "    </tr>\n",
       "    <tr>\n",
       "      <th>2</th>\n",
       "      <td>129</td>\n",
       "      <td>132</td>\n",
       "      <td>13</td>\n",
       "      <td>6</td>\n",
       "      <td>3</td>\n",
       "      <td>1</td>\n",
       "      <td>41</td>\n",
       "      <td>0.33</td>\n",
       "      <td>1471</td>\n",
       "    </tr>\n",
       "    <tr>\n",
       "      <th>3</th>\n",
       "      <td>138</td>\n",
       "      <td>140</td>\n",
       "      <td>17</td>\n",
       "      <td>7</td>\n",
       "      <td>3</td>\n",
       "      <td>1</td>\n",
       "      <td>22</td>\n",
       "      <td>0.46</td>\n",
       "      <td>3204</td>\n",
       "    </tr>\n",
       "    <tr>\n",
       "      <th>4</th>\n",
       "      <td>232</td>\n",
       "      <td>240</td>\n",
       "      <td>25</td>\n",
       "      <td>8</td>\n",
       "      <td>4</td>\n",
       "      <td>3</td>\n",
       "      <td>5</td>\n",
       "      <td>2.05</td>\n",
       "      <td>3613</td>\n",
       "    </tr>\n",
       "  </tbody>\n",
       "</table>\n",
       "</div>"
      ],
      "text/plain": [
       "   Sell   \"List\"   \"Living\"   \"Rooms\"   \"Beds\"   \"Baths\"   \"Age\"   \"Acres\"  \\\n",
       "0   142      160         28        10        5         3      60      0.28   \n",
       "1   175      180         18         8        4         1      12      0.43   \n",
       "2   129      132         13         6        3         1      41      0.33   \n",
       "3   138      140         17         7        3         1      22      0.46   \n",
       "4   232      240         25         8        4         3       5      2.05   \n",
       "\n",
       "    \"Taxes\"  \n",
       "0      3167  \n",
       "1      4033  \n",
       "2      1471  \n",
       "3      3204  \n",
       "4      3613  "
      ]
     },
     "execution_count": 169,
     "metadata": {},
     "output_type": "execute_result"
    }
   ],
   "source": [
    "#df.columns = df.columns.str.strip().str.replace('\"', '')\n",
    "df.head()"
   ]
  },
  {
   "cell_type": "code",
   "execution_count": 4,
   "id": "76a7901a",
   "metadata": {},
   "outputs": [
    {
     "data": {
      "text/html": [
       "<div>\n",
       "<style scoped>\n",
       "    .dataframe tbody tr th:only-of-type {\n",
       "        vertical-align: middle;\n",
       "    }\n",
       "\n",
       "    .dataframe tbody tr th {\n",
       "        vertical-align: top;\n",
       "    }\n",
       "\n",
       "    .dataframe thead th {\n",
       "        text-align: right;\n",
       "    }\n",
       "</style>\n",
       "<table border=\"1\" class=\"dataframe\">\n",
       "  <thead>\n",
       "    <tr style=\"text-align: right;\">\n",
       "      <th></th>\n",
       "      <th>Sell</th>\n",
       "      <th>List</th>\n",
       "      <th>Living</th>\n",
       "      <th>Rooms</th>\n",
       "      <th>Beds</th>\n",
       "      <th>Baths</th>\n",
       "      <th>Age</th>\n",
       "      <th>Acres</th>\n",
       "      <th>Taxes</th>\n",
       "    </tr>\n",
       "  </thead>\n",
       "  <tbody>\n",
       "    <tr>\n",
       "      <th>0</th>\n",
       "      <td>142</td>\n",
       "      <td>160</td>\n",
       "      <td>28</td>\n",
       "      <td>10</td>\n",
       "      <td>5</td>\n",
       "      <td>3</td>\n",
       "      <td>60</td>\n",
       "      <td>0.28</td>\n",
       "      <td>3167</td>\n",
       "    </tr>\n",
       "    <tr>\n",
       "      <th>1</th>\n",
       "      <td>175</td>\n",
       "      <td>180</td>\n",
       "      <td>18</td>\n",
       "      <td>8</td>\n",
       "      <td>4</td>\n",
       "      <td>1</td>\n",
       "      <td>12</td>\n",
       "      <td>0.43</td>\n",
       "      <td>4033</td>\n",
       "    </tr>\n",
       "    <tr>\n",
       "      <th>2</th>\n",
       "      <td>129</td>\n",
       "      <td>132</td>\n",
       "      <td>13</td>\n",
       "      <td>6</td>\n",
       "      <td>3</td>\n",
       "      <td>1</td>\n",
       "      <td>41</td>\n",
       "      <td>0.33</td>\n",
       "      <td>1471</td>\n",
       "    </tr>\n",
       "    <tr>\n",
       "      <th>3</th>\n",
       "      <td>138</td>\n",
       "      <td>140</td>\n",
       "      <td>17</td>\n",
       "      <td>7</td>\n",
       "      <td>3</td>\n",
       "      <td>1</td>\n",
       "      <td>22</td>\n",
       "      <td>0.46</td>\n",
       "      <td>3204</td>\n",
       "    </tr>\n",
       "    <tr>\n",
       "      <th>4</th>\n",
       "      <td>232</td>\n",
       "      <td>240</td>\n",
       "      <td>25</td>\n",
       "      <td>8</td>\n",
       "      <td>4</td>\n",
       "      <td>3</td>\n",
       "      <td>5</td>\n",
       "      <td>2.05</td>\n",
       "      <td>3613</td>\n",
       "    </tr>\n",
       "  </tbody>\n",
       "</table>\n",
       "</div>"
      ],
      "text/plain": [
       "   Sell   List   Living   Rooms   Beds   Baths   Age   Acres   Taxes\n",
       "0   142    160       28      10      5       3    60    0.28    3167\n",
       "1   175    180       18       8      4       1    12    0.43    4033\n",
       "2   129    132       13       6      3       1    41    0.33    1471\n",
       "3   138    140       17       7      3       1    22    0.46    3204\n",
       "4   232    240       25       8      4       3     5    2.05    3613"
      ]
     },
     "execution_count": 4,
     "metadata": {},
     "output_type": "execute_result"
    }
   ],
   "source": [
    "df.columns = df.columns.str.replace('\"', '')\n",
    "data=df.copy()\n",
    "df.head()"
   ]
  },
  {
   "cell_type": "code",
   "execution_count": 5,
   "id": "88fa7294",
   "metadata": {},
   "outputs": [
    {
     "data": {
      "text/html": [
       "<div>\n",
       "<style scoped>\n",
       "    .dataframe tbody tr th:only-of-type {\n",
       "        vertical-align: middle;\n",
       "    }\n",
       "\n",
       "    .dataframe tbody tr th {\n",
       "        vertical-align: top;\n",
       "    }\n",
       "\n",
       "    .dataframe thead th {\n",
       "        text-align: right;\n",
       "    }\n",
       "</style>\n",
       "<table border=\"1\" class=\"dataframe\">\n",
       "  <thead>\n",
       "    <tr style=\"text-align: right;\">\n",
       "      <th></th>\n",
       "      <th>Sell</th>\n",
       "      <th>List</th>\n",
       "      <th>Living</th>\n",
       "      <th>Rooms</th>\n",
       "      <th>Beds</th>\n",
       "      <th>Baths</th>\n",
       "      <th>Age</th>\n",
       "      <th>Acres</th>\n",
       "      <th>Taxes</th>\n",
       "    </tr>\n",
       "  </thead>\n",
       "  <tbody>\n",
       "    <tr>\n",
       "      <th>0</th>\n",
       "      <td>142</td>\n",
       "      <td>160</td>\n",
       "      <td>28</td>\n",
       "      <td>10</td>\n",
       "      <td>5</td>\n",
       "      <td>3</td>\n",
       "      <td>60</td>\n",
       "      <td>0.28</td>\n",
       "      <td>3167</td>\n",
       "    </tr>\n",
       "    <tr>\n",
       "      <th>1</th>\n",
       "      <td>175</td>\n",
       "      <td>180</td>\n",
       "      <td>18</td>\n",
       "      <td>8</td>\n",
       "      <td>4</td>\n",
       "      <td>1</td>\n",
       "      <td>12</td>\n",
       "      <td>0.43</td>\n",
       "      <td>4033</td>\n",
       "    </tr>\n",
       "    <tr>\n",
       "      <th>2</th>\n",
       "      <td>129</td>\n",
       "      <td>132</td>\n",
       "      <td>13</td>\n",
       "      <td>6</td>\n",
       "      <td>3</td>\n",
       "      <td>1</td>\n",
       "      <td>41</td>\n",
       "      <td>0.33</td>\n",
       "      <td>1471</td>\n",
       "    </tr>\n",
       "    <tr>\n",
       "      <th>3</th>\n",
       "      <td>138</td>\n",
       "      <td>140</td>\n",
       "      <td>17</td>\n",
       "      <td>7</td>\n",
       "      <td>3</td>\n",
       "      <td>1</td>\n",
       "      <td>22</td>\n",
       "      <td>0.46</td>\n",
       "      <td>3204</td>\n",
       "    </tr>\n",
       "    <tr>\n",
       "      <th>4</th>\n",
       "      <td>232</td>\n",
       "      <td>240</td>\n",
       "      <td>25</td>\n",
       "      <td>8</td>\n",
       "      <td>4</td>\n",
       "      <td>3</td>\n",
       "      <td>5</td>\n",
       "      <td>2.05</td>\n",
       "      <td>3613</td>\n",
       "    </tr>\n",
       "  </tbody>\n",
       "</table>\n",
       "</div>"
      ],
      "text/plain": [
       "   Sell  List  Living  Rooms  Beds  Baths  Age  Acres  Taxes\n",
       "0   142   160      28     10     5      3   60   0.28   3167\n",
       "1   175   180      18      8     4      1   12   0.43   4033\n",
       "2   129   132      13      6     3      1   41   0.33   1471\n",
       "3   138   140      17      7     3      1   22   0.46   3204\n",
       "4   232   240      25      8     4      3    5   2.05   3613"
      ]
     },
     "execution_count": 5,
     "metadata": {},
     "output_type": "execute_result"
    }
   ],
   "source": [
    "df.columns = df.columns.str.strip()\n",
    "df.head()"
   ]
  },
  {
   "cell_type": "code",
   "execution_count": 6,
   "id": "264fb740",
   "metadata": {},
   "outputs": [
    {
     "name": "stdout",
     "output_type": "stream",
     "text": [
      "<class 'pandas.core.frame.DataFrame'>\n",
      "RangeIndex: 50 entries, 0 to 49\n",
      "Data columns (total 9 columns):\n",
      " #   Column  Non-Null Count  Dtype  \n",
      "---  ------  --------------  -----  \n",
      " 0   Sell    50 non-null     int64  \n",
      " 1   List    50 non-null     int64  \n",
      " 2   Living  50 non-null     int64  \n",
      " 3   Rooms   50 non-null     int64  \n",
      " 4   Beds    50 non-null     int64  \n",
      " 5   Baths   50 non-null     int64  \n",
      " 6   Age     50 non-null     int64  \n",
      " 7   Acres   50 non-null     float64\n",
      " 8   Taxes   50 non-null     int64  \n",
      "dtypes: float64(1), int64(8)\n",
      "memory usage: 3.6 KB\n"
     ]
    },
    {
     "data": {
      "text/html": [
       "<div>\n",
       "<style scoped>\n",
       "    .dataframe tbody tr th:only-of-type {\n",
       "        vertical-align: middle;\n",
       "    }\n",
       "\n",
       "    .dataframe tbody tr th {\n",
       "        vertical-align: top;\n",
       "    }\n",
       "\n",
       "    .dataframe thead th {\n",
       "        text-align: right;\n",
       "    }\n",
       "</style>\n",
       "<table border=\"1\" class=\"dataframe\">\n",
       "  <thead>\n",
       "    <tr style=\"text-align: right;\">\n",
       "      <th></th>\n",
       "      <th>Sell</th>\n",
       "      <th>List</th>\n",
       "      <th>Living</th>\n",
       "      <th>Rooms</th>\n",
       "      <th>Beds</th>\n",
       "      <th>Baths</th>\n",
       "      <th>Age</th>\n",
       "      <th>Acres</th>\n",
       "      <th>Taxes</th>\n",
       "    </tr>\n",
       "  </thead>\n",
       "  <tbody>\n",
       "    <tr>\n",
       "      <th>count</th>\n",
       "      <td>50.000000</td>\n",
       "      <td>50.000000</td>\n",
       "      <td>50.000000</td>\n",
       "      <td>50.000000</td>\n",
       "      <td>50.000000</td>\n",
       "      <td>50.000000</td>\n",
       "      <td>50.000000</td>\n",
       "      <td>50.000000</td>\n",
       "      <td>50.000000</td>\n",
       "    </tr>\n",
       "    <tr>\n",
       "      <th>mean</th>\n",
       "      <td>170.360000</td>\n",
       "      <td>178.340000</td>\n",
       "      <td>21.120000</td>\n",
       "      <td>8.060000</td>\n",
       "      <td>3.820000</td>\n",
       "      <td>1.860000</td>\n",
       "      <td>30.220000</td>\n",
       "      <td>1.020600</td>\n",
       "      <td>3706.100000</td>\n",
       "    </tr>\n",
       "    <tr>\n",
       "      <th>std</th>\n",
       "      <td>72.755885</td>\n",
       "      <td>79.382723</td>\n",
       "      <td>8.351072</td>\n",
       "      <td>1.284285</td>\n",
       "      <td>0.690755</td>\n",
       "      <td>0.756199</td>\n",
       "      <td>30.962314</td>\n",
       "      <td>1.191496</td>\n",
       "      <td>1579.915268</td>\n",
       "    </tr>\n",
       "    <tr>\n",
       "      <th>min</th>\n",
       "      <td>87.000000</td>\n",
       "      <td>90.000000</td>\n",
       "      <td>10.000000</td>\n",
       "      <td>5.000000</td>\n",
       "      <td>3.000000</td>\n",
       "      <td>1.000000</td>\n",
       "      <td>2.000000</td>\n",
       "      <td>0.220000</td>\n",
       "      <td>1445.000000</td>\n",
       "    </tr>\n",
       "    <tr>\n",
       "      <th>25%</th>\n",
       "      <td>135.000000</td>\n",
       "      <td>140.000000</td>\n",
       "      <td>17.000000</td>\n",
       "      <td>7.000000</td>\n",
       "      <td>3.000000</td>\n",
       "      <td>1.000000</td>\n",
       "      <td>12.250000</td>\n",
       "      <td>0.382500</td>\n",
       "      <td>3107.000000</td>\n",
       "    </tr>\n",
       "    <tr>\n",
       "      <th>50%</th>\n",
       "      <td>152.000000</td>\n",
       "      <td>160.000000</td>\n",
       "      <td>20.000000</td>\n",
       "      <td>8.000000</td>\n",
       "      <td>4.000000</td>\n",
       "      <td>2.000000</td>\n",
       "      <td>24.500000</td>\n",
       "      <td>0.550000</td>\n",
       "      <td>3490.000000</td>\n",
       "    </tr>\n",
       "    <tr>\n",
       "      <th>75%</th>\n",
       "      <td>182.250000</td>\n",
       "      <td>190.000000</td>\n",
       "      <td>22.750000</td>\n",
       "      <td>9.000000</td>\n",
       "      <td>4.000000</td>\n",
       "      <td>2.000000</td>\n",
       "      <td>37.000000</td>\n",
       "      <td>1.182500</td>\n",
       "      <td>3919.250000</td>\n",
       "    </tr>\n",
       "    <tr>\n",
       "      <th>max</th>\n",
       "      <td>567.000000</td>\n",
       "      <td>625.000000</td>\n",
       "      <td>64.000000</td>\n",
       "      <td>12.000000</td>\n",
       "      <td>6.000000</td>\n",
       "      <td>4.000000</td>\n",
       "      <td>202.000000</td>\n",
       "      <td>6.490000</td>\n",
       "      <td>12192.000000</td>\n",
       "    </tr>\n",
       "  </tbody>\n",
       "</table>\n",
       "</div>"
      ],
      "text/plain": [
       "             Sell        List     Living      Rooms       Beds      Baths  \\\n",
       "count   50.000000   50.000000  50.000000  50.000000  50.000000  50.000000   \n",
       "mean   170.360000  178.340000  21.120000   8.060000   3.820000   1.860000   \n",
       "std     72.755885   79.382723   8.351072   1.284285   0.690755   0.756199   \n",
       "min     87.000000   90.000000  10.000000   5.000000   3.000000   1.000000   \n",
       "25%    135.000000  140.000000  17.000000   7.000000   3.000000   1.000000   \n",
       "50%    152.000000  160.000000  20.000000   8.000000   4.000000   2.000000   \n",
       "75%    182.250000  190.000000  22.750000   9.000000   4.000000   2.000000   \n",
       "max    567.000000  625.000000  64.000000  12.000000   6.000000   4.000000   \n",
       "\n",
       "              Age      Acres         Taxes  \n",
       "count   50.000000  50.000000     50.000000  \n",
       "mean    30.220000   1.020600   3706.100000  \n",
       "std     30.962314   1.191496   1579.915268  \n",
       "min      2.000000   0.220000   1445.000000  \n",
       "25%     12.250000   0.382500   3107.000000  \n",
       "50%     24.500000   0.550000   3490.000000  \n",
       "75%     37.000000   1.182500   3919.250000  \n",
       "max    202.000000   6.490000  12192.000000  "
      ]
     },
     "execution_count": 6,
     "metadata": {},
     "output_type": "execute_result"
    }
   ],
   "source": [
    "df.info()\n",
    "df.describe()"
   ]
  },
  {
   "cell_type": "markdown",
   "id": "aaf6b5a8",
   "metadata": {},
   "source": [
    "***As per my understanding I interpret this table as information of 50 homes in an area covering following parameters -***\n",
    "\n",
    "**Sell**: It seem to denote the selling pricing of home (thousands dollars) \n",
    "Ranges - $87,000 to $567,000 & mean - $170,360\n",
    "\n",
    "**List**: It seem to denote the listing price of the home (thousands dollars) \n",
    "Ranges - $90,000 to $625,000 & mean - $178,340\n",
    "\n",
    "**Living**: It seem to denote the living area (not sure) \n",
    "Ranges - 10 to 64 & mean - 21.12\n",
    "\n",
    "**Rooms**: Number of rooms\n",
    "Ranges - 5 to 12 & mean - 8\n",
    "\n",
    "**Beds**: Number of bedrooms\n",
    "Ranges - 3 to 6 & mean - 3\n",
    "\n",
    "**Baths**: Number of bathrooms\n",
    "Ranges - 1 to 4 & mean - 2\n",
    "\n",
    "**Age**: Age of the home\n",
    "Ranges - 2 to 202 & mean - 30\n",
    "\n",
    "**Acres**: Size of the lot (in measurement more than that used for living area)\n",
    "Ranges - 0.22 to 6.49 acres & mean - 1.02 acres\n",
    "\n",
    "**Taxes**: Property tax (in dollars)\n",
    "Ranges - $1,445 to $12,192 & mean - $3,706\n"
   ]
  },
  {
   "cell_type": "code",
   "execution_count": 173,
   "id": "eb8fc3af",
   "metadata": {},
   "outputs": [
    {
     "name": "stdout",
     "output_type": "stream",
     "text": [
      "0\n"
     ]
    }
   ],
   "source": [
    "duplicates = df.duplicated().sum()\n",
    "print (duplicates)"
   ]
  },
  {
   "cell_type": "code",
   "execution_count": 174,
   "id": "077ebbf2",
   "metadata": {},
   "outputs": [
    {
     "name": "stdout",
     "output_type": "stream",
     "text": [
      "Sell      0\n",
      "List      0\n",
      "Living    0\n",
      "Rooms     0\n",
      "Beds      0\n",
      "Baths     0\n",
      "Age       0\n",
      "Acres     0\n",
      "Taxes     0\n",
      "dtype: int64\n"
     ]
    }
   ],
   "source": [
    "missing_values = df.isnull().sum()\n",
    "print (missing_values)"
   ]
  },
  {
   "cell_type": "markdown",
   "id": "dc62c9b6",
   "metadata": {},
   "source": [
    "***Note - No Imputation required as there are no missing values***"
   ]
  },
  {
   "cell_type": "code",
   "execution_count": 7,
   "id": "23978fcf",
   "metadata": {},
   "outputs": [
    {
     "name": "stdout",
     "output_type": "stream",
     "text": [
      "Age_Categories\n",
      "11-20      12\n",
      "0-10        9\n",
      "21-30       9\n",
      "31-40       8\n",
      "41-50       7\n",
      "51-100      4\n",
      "101-500     1\n",
      "Name: count, dtype: int64\n"
     ]
    }
   ],
   "source": [
    "df['Age_Categories'] = pd.cut(df['Age'], bins=[0, 10, 20, 30, 40, 50, 100, 500], labels=[\"0-10\", \"11-20\", \"21-30\", \"31-40\", \"41-50\", \"51-100\", \"101-500\"])\n",
    "print(df['Age_Categories'].value_counts())"
   ]
  },
  {
   "cell_type": "code",
   "execution_count": 8,
   "id": "4ca26d47",
   "metadata": {},
   "outputs": [
    {
     "name": "stdout",
     "output_type": "stream",
     "text": [
      "   Sell  List  Living  Rooms  Beds  Baths  Age  Acres  Taxes Age_Categories  \\\n",
      "0   142   160      28     10     5      3   60   0.28   3167         51-100   \n",
      "1   175   180      18      8     4      1   12   0.43   4033          11-20   \n",
      "2   129   132      13      6     3      1   41   0.33   1471          41-50   \n",
      "3   138   140      17      7     3      1   22   0.46   3204          21-30   \n",
      "4   232   240      25      8     4      3    5   2.05   3613           0-10   \n",
      "\n",
      "   Bargain  \n",
      "0       18  \n",
      "1        5  \n",
      "2        3  \n",
      "3        2  \n",
      "4        8  \n"
     ]
    }
   ],
   "source": [
    "#print(df.head(), df.columns)\n",
    "df['Bargain'] = df['List'] - df['Sell'] \n",
    "print(df.head())"
   ]
  },
  {
   "cell_type": "code",
   "execution_count": 9,
   "id": "834bf055",
   "metadata": {},
   "outputs": [],
   "source": [
    "from sklearn.preprocessing import StandardScaler, MinMaxScaler\n",
    "\n",
    "# Standardizing and normalizing the 'Living' column\n",
    "scaler = StandardScaler()\n",
    "df['Living_Standardized'] = scaler.fit_transform(df[['Living']])\n",
    "\n",
    "normalizer = MinMaxScaler()\n",
    "df['Living_Normalized'] = normalizer.fit_transform(df[['Living']])"
   ]
  },
  {
   "cell_type": "code",
   "execution_count": 178,
   "id": "71dc601d",
   "metadata": {},
   "outputs": [
    {
     "data": {
      "text/html": [
       "<div>\n",
       "<style scoped>\n",
       "    .dataframe tbody tr th:only-of-type {\n",
       "        vertical-align: middle;\n",
       "    }\n",
       "\n",
       "    .dataframe tbody tr th {\n",
       "        vertical-align: top;\n",
       "    }\n",
       "\n",
       "    .dataframe thead th {\n",
       "        text-align: right;\n",
       "    }\n",
       "</style>\n",
       "<table border=\"1\" class=\"dataframe\">\n",
       "  <thead>\n",
       "    <tr style=\"text-align: right;\">\n",
       "      <th></th>\n",
       "      <th>Sell</th>\n",
       "      <th>List</th>\n",
       "      <th>Living</th>\n",
       "      <th>Rooms</th>\n",
       "      <th>Beds</th>\n",
       "      <th>Baths</th>\n",
       "      <th>Age</th>\n",
       "      <th>Acres</th>\n",
       "      <th>Taxes</th>\n",
       "      <th>Age_Categories</th>\n",
       "      <th>Bargain</th>\n",
       "      <th>Living_Standardized</th>\n",
       "      <th>Living_Normalized</th>\n",
       "    </tr>\n",
       "  </thead>\n",
       "  <tbody>\n",
       "    <tr>\n",
       "      <th>0</th>\n",
       "      <td>142</td>\n",
       "      <td>160</td>\n",
       "      <td>28</td>\n",
       "      <td>10</td>\n",
       "      <td>5</td>\n",
       "      <td>3</td>\n",
       "      <td>60</td>\n",
       "      <td>0.28</td>\n",
       "      <td>3167</td>\n",
       "      <td>51-100</td>\n",
       "      <td>18</td>\n",
       "      <td>0.832210</td>\n",
       "      <td>0.333333</td>\n",
       "    </tr>\n",
       "    <tr>\n",
       "      <th>1</th>\n",
       "      <td>175</td>\n",
       "      <td>180</td>\n",
       "      <td>18</td>\n",
       "      <td>8</td>\n",
       "      <td>4</td>\n",
       "      <td>1</td>\n",
       "      <td>12</td>\n",
       "      <td>0.43</td>\n",
       "      <td>4033</td>\n",
       "      <td>11-20</td>\n",
       "      <td>5</td>\n",
       "      <td>-0.377398</td>\n",
       "      <td>0.148148</td>\n",
       "    </tr>\n",
       "    <tr>\n",
       "      <th>2</th>\n",
       "      <td>129</td>\n",
       "      <td>132</td>\n",
       "      <td>13</td>\n",
       "      <td>6</td>\n",
       "      <td>3</td>\n",
       "      <td>1</td>\n",
       "      <td>41</td>\n",
       "      <td>0.33</td>\n",
       "      <td>1471</td>\n",
       "      <td>41-50</td>\n",
       "      <td>3</td>\n",
       "      <td>-0.982202</td>\n",
       "      <td>0.055556</td>\n",
       "    </tr>\n",
       "    <tr>\n",
       "      <th>3</th>\n",
       "      <td>138</td>\n",
       "      <td>140</td>\n",
       "      <td>17</td>\n",
       "      <td>7</td>\n",
       "      <td>3</td>\n",
       "      <td>1</td>\n",
       "      <td>22</td>\n",
       "      <td>0.46</td>\n",
       "      <td>3204</td>\n",
       "      <td>21-30</td>\n",
       "      <td>2</td>\n",
       "      <td>-0.498359</td>\n",
       "      <td>0.129630</td>\n",
       "    </tr>\n",
       "    <tr>\n",
       "      <th>4</th>\n",
       "      <td>232</td>\n",
       "      <td>240</td>\n",
       "      <td>25</td>\n",
       "      <td>8</td>\n",
       "      <td>4</td>\n",
       "      <td>3</td>\n",
       "      <td>5</td>\n",
       "      <td>2.05</td>\n",
       "      <td>3613</td>\n",
       "      <td>0-10</td>\n",
       "      <td>8</td>\n",
       "      <td>0.469328</td>\n",
       "      <td>0.277778</td>\n",
       "    </tr>\n",
       "  </tbody>\n",
       "</table>\n",
       "</div>"
      ],
      "text/plain": [
       "   Sell  List  Living  Rooms  Beds  Baths  Age  Acres  Taxes Age_Categories  \\\n",
       "0   142   160      28     10     5      3   60   0.28   3167         51-100   \n",
       "1   175   180      18      8     4      1   12   0.43   4033          11-20   \n",
       "2   129   132      13      6     3      1   41   0.33   1471          41-50   \n",
       "3   138   140      17      7     3      1   22   0.46   3204          21-30   \n",
       "4   232   240      25      8     4      3    5   2.05   3613           0-10   \n",
       "\n",
       "   Bargain  Living_Standardized  Living_Normalized  \n",
       "0       18             0.832210           0.333333  \n",
       "1        5            -0.377398           0.148148  \n",
       "2        3            -0.982202           0.055556  \n",
       "3        2            -0.498359           0.129630  \n",
       "4        8             0.469328           0.277778  "
      ]
     },
     "execution_count": 178,
     "metadata": {},
     "output_type": "execute_result"
    }
   ],
   "source": [
    "df.head()"
   ]
  },
  {
   "cell_type": "code",
   "execution_count": 10,
   "id": "4993762e",
   "metadata": {},
   "outputs": [
    {
     "name": "stdout",
     "output_type": "stream",
     "text": [
      "<class 'pandas.core.frame.DataFrame'>\n",
      "RangeIndex: 50 entries, 0 to 49\n",
      "Data columns (total 13 columns):\n",
      " #   Column               Non-Null Count  Dtype   \n",
      "---  ------               --------------  -----   \n",
      " 0   Sell                 50 non-null     int64   \n",
      " 1   List                 50 non-null     int64   \n",
      " 2   Living               50 non-null     int64   \n",
      " 3   Rooms                50 non-null     int64   \n",
      " 4   Beds                 50 non-null     int64   \n",
      " 5   Baths                50 non-null     int64   \n",
      " 6   Age                  50 non-null     int64   \n",
      " 7   Acres                50 non-null     float64 \n",
      " 8   Taxes                50 non-null     int64   \n",
      " 9   Age_Categories       50 non-null     category\n",
      " 10  Bargain              50 non-null     int64   \n",
      " 11  Living_Standardized  50 non-null     float64 \n",
      " 12  Living_Normalized    50 non-null     float64 \n",
      "dtypes: category(1), float64(3), int64(9)\n",
      "memory usage: 5.2 KB\n"
     ]
    }
   ],
   "source": [
    "df.info()"
   ]
  },
  {
   "cell_type": "code",
   "execution_count": 11,
   "id": "7d065cf3",
   "metadata": {},
   "outputs": [
    {
     "data": {
      "text/html": [
       "<div>\n",
       "<style scoped>\n",
       "    .dataframe tbody tr th:only-of-type {\n",
       "        vertical-align: middle;\n",
       "    }\n",
       "\n",
       "    .dataframe tbody tr th {\n",
       "        vertical-align: top;\n",
       "    }\n",
       "\n",
       "    .dataframe thead th {\n",
       "        text-align: right;\n",
       "    }\n",
       "</style>\n",
       "<table border=\"1\" class=\"dataframe\">\n",
       "  <thead>\n",
       "    <tr style=\"text-align: right;\">\n",
       "      <th></th>\n",
       "      <th>Sell</th>\n",
       "      <th>List</th>\n",
       "      <th>Living</th>\n",
       "      <th>Rooms</th>\n",
       "      <th>Beds</th>\n",
       "      <th>Baths</th>\n",
       "      <th>Age</th>\n",
       "      <th>Acres</th>\n",
       "      <th>Taxes</th>\n",
       "    </tr>\n",
       "  </thead>\n",
       "  <tbody>\n",
       "    <tr>\n",
       "      <th>0</th>\n",
       "      <td>142</td>\n",
       "      <td>160</td>\n",
       "      <td>28</td>\n",
       "      <td>10</td>\n",
       "      <td>5</td>\n",
       "      <td>3</td>\n",
       "      <td>60</td>\n",
       "      <td>0.28</td>\n",
       "      <td>3167</td>\n",
       "    </tr>\n",
       "    <tr>\n",
       "      <th>1</th>\n",
       "      <td>175</td>\n",
       "      <td>180</td>\n",
       "      <td>18</td>\n",
       "      <td>8</td>\n",
       "      <td>4</td>\n",
       "      <td>1</td>\n",
       "      <td>12</td>\n",
       "      <td>0.43</td>\n",
       "      <td>4033</td>\n",
       "    </tr>\n",
       "    <tr>\n",
       "      <th>2</th>\n",
       "      <td>129</td>\n",
       "      <td>132</td>\n",
       "      <td>13</td>\n",
       "      <td>6</td>\n",
       "      <td>3</td>\n",
       "      <td>1</td>\n",
       "      <td>41</td>\n",
       "      <td>0.33</td>\n",
       "      <td>1471</td>\n",
       "    </tr>\n",
       "    <tr>\n",
       "      <th>3</th>\n",
       "      <td>138</td>\n",
       "      <td>140</td>\n",
       "      <td>17</td>\n",
       "      <td>7</td>\n",
       "      <td>3</td>\n",
       "      <td>1</td>\n",
       "      <td>22</td>\n",
       "      <td>0.46</td>\n",
       "      <td>3204</td>\n",
       "    </tr>\n",
       "    <tr>\n",
       "      <th>4</th>\n",
       "      <td>232</td>\n",
       "      <td>240</td>\n",
       "      <td>25</td>\n",
       "      <td>8</td>\n",
       "      <td>4</td>\n",
       "      <td>3</td>\n",
       "      <td>5</td>\n",
       "      <td>2.05</td>\n",
       "      <td>3613</td>\n",
       "    </tr>\n",
       "  </tbody>\n",
       "</table>\n",
       "</div>"
      ],
      "text/plain": [
       "   Sell   List   Living   Rooms   Beds   Baths   Age   Acres   Taxes\n",
       "0   142    160       28      10      5       3    60    0.28    3167\n",
       "1   175    180       18       8      4       1    12    0.43    4033\n",
       "2   129    132       13       6      3       1    41    0.33    1471\n",
       "3   138    140       17       7      3       1    22    0.46    3204\n",
       "4   232    240       25       8      4       3     5    2.05    3613"
      ]
     },
     "execution_count": 11,
     "metadata": {},
     "output_type": "execute_result"
    }
   ],
   "source": [
    "#df['Age_Categories'] = float(df['Age_Categories'])\n",
    "data.head()"
   ]
  },
  {
   "cell_type": "markdown",
   "id": "df151b04",
   "metadata": {},
   "source": [
    "Housing data for these 50 homes, is comprising of not null values and hence imputation is not required however to understand the data better, the house age could be groups together, a new analysis could be build on comparing the listing price with the selling price.\n",
    "Further, to understand the correlation and relationship between different variable we would use EDA techniques and further move to linear regression."
   ]
  },
  {
   "cell_type": "code",
   "execution_count": 181,
   "id": "5e155bf8",
   "metadata": {},
   "outputs": [
    {
     "data": {
      "image/png": "[encoded data removed]",
      "text/plain": [
       "<Figure size 720x432 with 1 Axes>"
      ]
     },
     "metadata": {
      "needs_background": "light"
     },
     "output_type": "display_data"
    }
   ],
   "source": [
    "#histogram\n",
    "plt.figure(figsize=(10, 6))\n",
    "sns.histplot(df['Sell'], bins=20, kde=True)\n",
    "plt.title('Distribution of Selling Prices')\n",
    "plt.xlabel('Selling Price (in thousands)')\n",
    "plt.ylabel('Frequency')\n",
    "plt.show()"
   ]
  },
  {
   "cell_type": "code",
   "execution_count": 182,
   "id": "67ea9ada",
   "metadata": {},
   "outputs": [
    {
     "name": "stdout",
     "output_type": "stream",
     "text": [
      "    Sell  List  Living  Rooms  Beds  Baths  Age  Acres  Taxes Age_Categories  \\\n",
      "28   567   625      64     11     4      4    4   0.85  12192           0-10   \n",
      "\n",
      "    Bargain  Living_Standardized  Living_Normalized  \n",
      "28       58               5.1868                1.0  \n"
     ]
    }
   ],
   "source": [
    "outlier_selling = df[df['Sell'] > 350]\n",
    "print(outlier_selling)"
   ]
  },
  {
   "cell_type": "markdown",
   "id": "1004f232",
   "metadata": {},
   "source": [
    "Made a histogram for the distribution of selling prices to see how all the 50 homes values are spread. \n",
    "It shows the range of selling prices and we could see this is right-skewed. This means that most of the homes are being sold at low- medium price ranging aroung 100-300 thousand dollars.\n",
    "The histogram is a good way to see if we have biases in the dataset and whether we need more data points. It also helps in identifying the outlier for example in this case we could see there is 1 house which is sold at way too high of a cost."
   ]
  },
  {
   "cell_type": "code",
   "execution_count": 183,
   "id": "0eea2506",
   "metadata": {},
   "outputs": [
    {
     "data": {
      "image/png": "[encoded data removed]",
      "text/plain": [
       "<Figure size 864x576 with 2 Axes>"
      ]
     },
     "metadata": {
      "needs_background": "light"
     },
     "output_type": "display_data"
    }
   ],
   "source": [
    "df_copy=df.copy()\n",
    "df_copy.drop('Age_Categories', axis=1, inplace=True)\n",
    "\n",
    "plt.figure(figsize=(12, 8))\n",
    "sns.heatmap(df_copy.corr(), annot=True, cmap='coolwarm')\n",
    "plt.title('Correlation Matrix')\n",
    "plt.show()"
   ]
  },
  {
   "cell_type": "markdown",
   "id": "a59e65c0",
   "metadata": {},
   "source": [
    "The correlation matrix provides understanding of the relationships between different variables in the dataset. \n",
    "Here, we can observe how the selling price is related to other features like living area, rooms, and taxes. A high positive correlation indicates that as one variable increases, the other would increase as well, while a high negative correlation indicates the opposite. \n",
    "This matrix could be really helpful to identify which variables shoud be considered while building the predicting algorithm."
   ]
  },
  {
   "cell_type": "code",
   "execution_count": 184,
   "id": "eb64a052",
   "metadata": {},
   "outputs": [
    {
     "data": {
      "image/png": "[encoded data removed]",
      "text/plain": [
       "<Figure size 720x432 with 1 Axes>"
      ]
     },
     "metadata": {
      "needs_background": "light"
     },
     "output_type": "display_data"
    }
   ],
   "source": [
    "# Scatter Plot\n",
    "plt.figure(figsize=(10, 6))\n",
    "sns.scatterplot(data=df, x='Taxes', y='Sell')\n",
    "plt.title('Taxes vs. Selling Price')\n",
    "plt.xlabel('Taxes')\n",
    "plt.ylabel('Selling Price (in thousands)')\n",
    "plt.show()"
   ]
  },
  {
   "cell_type": "markdown",
   "id": "a8ccd6bf",
   "metadata": {},
   "source": [
    "The scatter plot shows the relationship between the 2 variables. Here I tried to bring taxes and the selling price of the homes to the graph. Here each point represents a home, with its position determined by its taxes and selling price.\n",
    "\n",
    "This helps to understand if there is any pattern on how 1 variables (taxes here) might affect the other variable like selling price here."
   ]
  },
  {
   "cell_type": "code",
   "execution_count": 190,
   "id": "ad8e0628",
   "metadata": {},
   "outputs": [
    {
     "data": {
      "image/png": "[encoded data removed]",
      "text/plain": [
       "<Figure size 720x432 with 1 Axes>"
      ]
     },
     "metadata": {
      "needs_background": "light"
     },
     "output_type": "display_data"
    }
   ],
   "source": [
    "# Scatter Plot\n",
    "plt.figure(figsize=(10, 6))\n",
    "sns.scatterplot(data=df, x='List', y='Sell')\n",
    "plt.title('Listing vs. Selling Price')\n",
    "plt.xlabel('List')\n",
    "plt.ylabel('Selling Price')\n",
    "plt.show()"
   ]
  },
  {
   "cell_type": "code",
   "execution_count": 192,
   "id": "fecf0fef",
   "metadata": {},
   "outputs": [
    {
     "data": {
      "image/png": "[encoded data removed]",
      "text/plain": [
       "<Figure size 720x432 with 1 Axes>"
      ]
     },
     "metadata": {
      "needs_background": "light"
     },
     "output_type": "display_data"
    }
   ],
   "source": [
    "# Scatter Plot\n",
    "plt.figure(figsize=(10, 6))\n",
    "sns.scatterplot(data=df, x='Taxes', y='Age')\n",
    "plt.title('Taxes vs. Age')\n",
    "plt.xlabel('Taxes')\n",
    "plt.ylabel('Age')\n",
    "plt.show()"
   ]
  },
  {
   "cell_type": "code",
   "execution_count": 193,
   "id": "254e9495",
   "metadata": {},
   "outputs": [
    {
     "data": {
      "image/png": "[encoded data removed]",
      "text/plain": [
       "<Figure size 720x432 with 1 Axes>"
      ]
     },
     "metadata": {
      "needs_background": "light"
     },
     "output_type": "display_data"
    }
   ],
   "source": [
    "# Scatter Plot\n",
    "plt.figure(figsize=(10, 6))\n",
    "sns.scatterplot(data=df, x='Sell', y='Age')\n",
    "plt.title('Sell vs. Age')\n",
    "plt.xlabel('Sell')\n",
    "plt.ylabel('Age')\n",
    "plt.show()"
   ]
  },
  {
   "cell_type": "markdown",
   "id": "41b42bd9",
   "metadata": {},
   "source": [
    "# Linear Regression Model"
   ]
  },
  {
   "cell_type": "markdown",
   "id": "163538d0",
   "metadata": {},
   "source": [
    "***1. Used Taxes as the independent variable and Sell as the dependent variable***"
   ]
  },
  {
   "cell_type": "code",
   "execution_count": 196,
   "id": "a04a9e57",
   "metadata": {},
   "outputs": [
    {
     "name": "stdout",
     "output_type": "stream",
     "text": [
      "                            OLS Regression Results                            \n",
      "==============================================================================\n",
      "Dep. Variable:                   Sell   R-squared:                       0.822\n",
      "Model:                            OLS   Adj. R-squared:                  0.818\n",
      "Method:                 Least Squares   F-statistic:                     175.7\n",
      "Date:                Wed, 21 Feb 2024   Prob (F-statistic):           7.90e-16\n",
      "Time:                        13:16:20   Log-Likelihood:                -196.33\n",
      "No. Observations:                  40   AIC:                             396.7\n",
      "Df Residuals:                      38   BIC:                             400.0\n",
      "Df Model:                           1                                         \n",
      "Covariance Type:            nonrobust                                         \n",
      "==============================================================================\n",
      "                 coef    std err          t      P>|t|      [0.025      0.975]\n",
      "------------------------------------------------------------------------------\n",
      "const         22.8543     12.864      1.777      0.084      -3.187      48.896\n",
      "Taxes          0.0409      0.003     13.257      0.000       0.035       0.047\n",
      "==============================================================================\n",
      "Omnibus:                       22.811   Durbin-Watson:                   1.076\n",
      "Prob(Omnibus):                  0.000   Jarque-Bera (JB):               37.074\n",
      "Skew:                           1.600   Prob(JB):                     8.90e-09\n",
      "Kurtosis:                       6.464   Cond. No.                     1.01e+04\n",
      "==============================================================================\n",
      "\n",
      "Notes:\n",
      "[1] Standard Errors assume that the covariance matrix of the errors is correctly specified.\n",
      "[2] The condition number is large, 1.01e+04. This might indicate that there are\n",
      "strong multicollinearity or other numerical problems.\n"
     ]
    }
   ],
   "source": [
    "import statsmodels.api as sm\n",
    "X = df[['Taxes']]\n",
    "X_model = sm.add_constant(X)\n",
    "y = df['Sell']\n",
    "model_sm = sm.OLS(y, X_model).fit()\n",
    "\n",
    "print(model_sm.summary())"
   ]
  },
  {
   "cell_type": "markdown",
   "id": "aac8a1a6",
   "metadata": {},
   "source": [
    "***2. Used Beds as the independent variable and Sell as the dependent variable***"
   ]
  },
  {
   "cell_type": "code",
   "execution_count": 15,
   "id": "46064c4d",
   "metadata": {},
   "outputs": [
    {
     "name": "stdout",
     "output_type": "stream",
     "text": [
      "                            OLS Regression Results                            \n",
      "==============================================================================\n",
      "Dep. Variable:                   Sell   R-squared:                       0.112\n",
      "Model:                            OLS   Adj. R-squared:                  0.094\n",
      "Method:                 Least Squares   F-statistic:                     6.072\n",
      "Date:                Wed, 21 Feb 2024   Prob (F-statistic):             0.0174\n",
      "Time:                        19:11:10   Log-Likelihood:                -281.82\n",
      "No. Observations:                  50   AIC:                             567.6\n",
      "Df Residuals:                      48   BIC:                             571.5\n",
      "Df Model:                           1                                         \n",
      "Covariance Type:            nonrobust                                         \n",
      "==============================================================================\n",
      "                 coef    std err          t      P>|t|      [0.025      0.975]\n",
      "------------------------------------------------------------------------------\n",
      "const         35.5261     55.586      0.639      0.526     -76.238     147.290\n",
      "Beds          35.2968     14.324      2.464      0.017       6.497      64.097\n",
      "==============================================================================\n",
      "Omnibus:                       73.503   Durbin-Watson:                   2.146\n",
      "Prob(Omnibus):                  0.000   Jarque-Bera (JB):              893.757\n",
      "Skew:                           3.828   Prob(JB):                    8.38e-195\n",
      "Kurtosis:                      22.246   Cond. No.                         23.4\n",
      "==============================================================================\n",
      "\n",
      "Notes:\n",
      "[1] Standard Errors assume that the covariance matrix of the errors is correctly specified.\n"
     ]
    }
   ],
   "source": [
    "import statsmodels.api as sm\n",
    "X_beds = sm.add_constant(df['Beds']) \n",
    "X_model = sm.add_constant(X_beds)\n",
    "y_model = df['Sell'] \n",
    "model_sm2 = sm.OLS(y_model, X_model).fit()\n",
    "\n",
    "print(model_sm2.summary())"
   ]
  },
  {
   "cell_type": "markdown",
   "id": "8cf317cf",
   "metadata": {},
   "source": [
    "***3. Used Living as the independent variable and Sell as the dependent variable***"
   ]
  },
  {
   "cell_type": "code",
   "execution_count": 17,
   "id": "b4a1f5ae",
   "metadata": {},
   "outputs": [
    {
     "name": "stdout",
     "output_type": "stream",
     "text": [
      "                            OLS Regression Results                            \n",
      "==============================================================================\n",
      "Dep. Variable:                   Sell   R-squared:                       0.773\n",
      "Model:                            OLS   Adj. R-squared:                  0.769\n",
      "Method:                 Least Squares   F-statistic:                     163.7\n",
      "Date:                Wed, 21 Feb 2024   Prob (F-statistic):           4.39e-17\n",
      "Time:                        19:11:53   Log-Likelihood:                -247.69\n",
      "No. Observations:                  50   AIC:                             499.4\n",
      "Df Residuals:                      48   BIC:                             503.2\n",
      "Df Model:                           1                                         \n",
      "Covariance Type:            nonrobust                                         \n",
      "==============================================================================\n",
      "                 coef    std err          t      P>|t|      [0.025      0.975]\n",
      "------------------------------------------------------------------------------\n",
      "const          8.5531     13.579      0.630      0.532     -18.749      35.856\n",
      "Living         7.6613      0.599     12.796      0.000       6.458       8.865\n",
      "==============================================================================\n",
      "Omnibus:                        3.798   Durbin-Watson:                   1.677\n",
      "Prob(Omnibus):                  0.150   Jarque-Bera (JB):                2.793\n",
      "Skew:                          -0.399   Prob(JB):                        0.247\n",
      "Kurtosis:                       3.838   Cond. No.                         62.3\n",
      "==============================================================================\n",
      "\n",
      "Notes:\n",
      "[1] Standard Errors assume that the covariance matrix of the errors is correctly specified.\n"
     ]
    }
   ],
   "source": [
    "import statsmodels.api as sm\n",
    "X_beds = sm.add_constant(df['Living']) \n",
    "X_model = sm.add_constant(X_beds)\n",
    "y_model = df['Sell'] \n",
    "model_sm3 = sm.OLS(y_model, X_model).fit()\n",
    "\n",
    "print(model_sm3.summary())"
   ]
  },
  {
   "cell_type": "markdown",
   "id": "bb39924f",
   "metadata": {},
   "source": [
    "***4. Used Rooms as the independent variable and Sell as the dependent variable***"
   ]
  },
  {
   "cell_type": "code",
   "execution_count": 18,
   "id": "33bfd489",
   "metadata": {},
   "outputs": [
    {
     "name": "stdout",
     "output_type": "stream",
     "text": [
      "                            OLS Regression Results                            \n",
      "==============================================================================\n",
      "Dep. Variable:                   Sell   R-squared:                       0.314\n",
      "Model:                            OLS   Adj. R-squared:                  0.300\n",
      "Method:                 Least Squares   F-statistic:                     21.98\n",
      "Date:                Wed, 21 Feb 2024   Prob (F-statistic):           2.31e-05\n",
      "Time:                        19:12:39   Log-Likelihood:                -275.37\n",
      "No. Observations:                  50   AIC:                             554.7\n",
      "Df Residuals:                      48   BIC:                             558.6\n",
      "Df Model:                           1                                         \n",
      "Covariance Type:            nonrobust                                         \n",
      "==============================================================================\n",
      "                 coef    std err          t      P>|t|      [0.025      0.975]\n",
      "------------------------------------------------------------------------------\n",
      "const        -85.5335     55.258     -1.548      0.128    -196.637      25.570\n",
      "Rooms         31.7486      6.772      4.688      0.000      18.132      45.365\n",
      "==============================================================================\n",
      "Omnibus:                       52.210   Durbin-Watson:                   1.919\n",
      "Prob(Omnibus):                  0.000   Jarque-Bera (JB):              317.230\n",
      "Skew:                           2.607   Prob(JB):                     1.30e-69\n",
      "Kurtosis:                      14.184   Cond. No.                         53.1\n",
      "==============================================================================\n",
      "\n",
      "Notes:\n",
      "[1] Standard Errors assume that the covariance matrix of the errors is correctly specified.\n"
     ]
    }
   ],
   "source": [
    "import statsmodels.api as sm\n",
    "X_beds = sm.add_constant(df['Rooms']) \n",
    "X_model = sm.add_constant(X_beds)\n",
    "y_model = df['Sell'] \n",
    "model_sm4 = sm.OLS(y_model, X_model).fit()\n",
    "\n",
    "print(model_sm4.summary())"
   ]
  },
  {
   "cell_type": "markdown",
   "id": "68f85f8c",
   "metadata": {},
   "source": [
    "***5. Used Acres as the independent variable and Sell as the dependent variable***"
   ]
  },
  {
   "cell_type": "code",
   "execution_count": 19,
   "id": "41bde83e",
   "metadata": {},
   "outputs": [
    {
     "name": "stdout",
     "output_type": "stream",
     "text": [
      "                            OLS Regression Results                            \n",
      "==============================================================================\n",
      "Dep. Variable:                   Sell   R-squared:                       0.028\n",
      "Model:                            OLS   Adj. R-squared:                  0.008\n",
      "Method:                 Least Squares   F-statistic:                     1.406\n",
      "Date:                Wed, 21 Feb 2024   Prob (F-statistic):              0.242\n",
      "Time:                        19:12:51   Log-Likelihood:                -284.08\n",
      "No. Observations:                  50   AIC:                             572.2\n",
      "Df Residuals:                      48   BIC:                             576.0\n",
      "Df Model:                           1                                         \n",
      "Covariance Type:            nonrobust                                         \n",
      "==============================================================================\n",
      "                 coef    std err          t      P>|t|      [0.025      0.975]\n",
      "------------------------------------------------------------------------------\n",
      "const        159.8457     13.550     11.797      0.000     132.601     187.090\n",
      "Acres         10.3021      8.687      1.186      0.242      -7.165      27.769\n",
      "==============================================================================\n",
      "Omnibus:                       70.495   Durbin-Watson:                   2.149\n",
      "Prob(Omnibus):                  0.000   Jarque-Bera (JB):              740.048\n",
      "Skew:                           3.678   Prob(JB):                    2.00e-161\n",
      "Kurtosis:                      20.353   Cond. No.                         2.51\n",
      "==============================================================================\n",
      "\n",
      "Notes:\n",
      "[1] Standard Errors assume that the covariance matrix of the errors is correctly specified.\n"
     ]
    }
   ],
   "source": [
    "import statsmodels.api as sm\n",
    "X_beds = sm.add_constant(df['Acres']) \n",
    "X_model = sm.add_constant(X_beds)\n",
    "y_model = df['Sell'] \n",
    "model_sm5 = sm.OLS(y_model, X_model).fit()\n",
    "\n",
    "print(model_sm5.summary())"
   ]
  },
  {
   "cell_type": "markdown",
   "id": "8e0c38aa",
   "metadata": {},
   "source": [
    "***6. Used Age as the independent variable and Sell as the dependent variable***"
   ]
  },
  {
   "cell_type": "code",
   "execution_count": 20,
   "id": "63d368b4",
   "metadata": {},
   "outputs": [
    {
     "name": "stdout",
     "output_type": "stream",
     "text": [
      "                            OLS Regression Results                            \n",
      "==============================================================================\n",
      "Dep. Variable:                   Sell   R-squared:                       0.022\n",
      "Model:                            OLS   Adj. R-squared:                  0.001\n",
      "Method:                 Least Squares   F-statistic:                     1.065\n",
      "Date:                Wed, 21 Feb 2024   Prob (F-statistic):              0.307\n",
      "Time:                        19:19:52   Log-Likelihood:                -284.25\n",
      "No. Observations:                  50   AIC:                             572.5\n",
      "Df Residuals:                      48   BIC:                             576.3\n",
      "Df Model:                           1                                         \n",
      "Covariance Type:            nonrobust                                         \n",
      "==============================================================================\n",
      "                 coef    std err          t      P>|t|      [0.025      0.975]\n",
      "------------------------------------------------------------------------------\n",
      "const        180.8230     14.440     12.523      0.000     151.790     209.856\n",
      "Age           -0.3462      0.335     -1.032      0.307      -1.021       0.328\n",
      "==============================================================================\n",
      "Omnibus:                       65.016   Durbin-Watson:                   2.169\n",
      "Prob(Omnibus):                  0.000   Jarque-Bera (JB):              564.646\n",
      "Skew:                           3.358   Prob(JB):                    2.45e-123\n",
      "Kurtosis:                      18.031   Cond. No.                         60.5\n",
      "==============================================================================\n",
      "\n",
      "Notes:\n",
      "[1] Standard Errors assume that the covariance matrix of the errors is correctly specified.\n"
     ]
    }
   ],
   "source": [
    "import statsmodels.api as sm\n",
    "X_beds = sm.add_constant(df['Age']) \n",
    "X_model = sm.add_constant(X_beds)\n",
    "y_model = df['Sell'] \n",
    "model_sm6 = sm.OLS(y_model, X_model).fit()\n",
    "\n",
    "print(model_sm6.summary())"
   ]
  },
  {
   "cell_type": "markdown",
   "id": "e5c747c8",
   "metadata": {},
   "source": [
    "On applying linear regression with the dependent variable - Sell, considering different independent variables, I determined that there were 3 independent variables with P value <0.05 and high R square value i.e. Taxes, Rooms, and Living. I looked at these 2 values for performance because a low p value (< 0.05) denotes that there is a significant relationship between selling price and these 3 variables - Taxes, Living, and Rooms. A higher R squar value denotes that more variance in the selling price could be explained by the these 3 mentioned variables\n",
    "\n",
    "Finally, with these 2 parameters we can say that the 3 mentioned parameters are strong predictors for getting rhe selling price. Out of these 3, Taxes seems to be the strongest one as it has the highest R square value as compared to other variables. This means the model fits the data better and suggests that \"Taxes\" is a strongest predictor of the selling price.(as P value is same for these 3 parameters) \n",
    "\n",
    "Some of the limitations of the model could be as below - \n",
    "\n",
    "a) In real world, the selling price of a home cannot be influenced by only 1 factor but it is influenced by a multitude of factors. For example here, we see 3 factors are showing some relation then there are high chances that these 3 togethe could also add more value to predictive model.\n",
    "\n",
    "b)The model's accuracy is dependent on the quality and amount of the data. Here in this dataset we only have data for 50 homes so we are just evaluating the model basis the impact of factors related to those 50 homes which could be all located in 1 area and might not be accurate for predicting selling price for home at some other location."
   ]
  },
  {
   "cell_type": "code",
   "execution_count": null,
   "id": "9a7325e5",
   "metadata": {},
   "outputs": [],
   "source": []
  }
 ],
 "metadata": {
  "kernelspec": {
   "display_name": "Python 3 (ipykernel)",
   "language": "python",
   "name": "python3"
  },
  "language_info": {
   "codemirror_mode": {
    "name": "ipython",
    "version": 3
   },
   "file_extension": ".py",
   "mimetype": "text/x-python",
   "name": "python",
   "nbconvert_exporter": "python",
   "pygments_lexer": "ipython3",
   "version": "3.8.9"
  }
 },
 "nbformat": 4,
 "nbformat_minor": 5
}
